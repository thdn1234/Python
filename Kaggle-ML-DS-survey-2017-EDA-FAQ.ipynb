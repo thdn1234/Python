{
 "cells": [
  {
   "cell_type": "code",
   "execution_count": 1,
   "metadata": {},
   "outputs": [],
   "source": [
    "# !pip install missingno"
   ]
  },
  {
   "cell_type": "code",
   "execution_count": 2,
   "metadata": {},
   "outputs": [],
   "source": [
    "# !pip install seaborn"
   ]
  },
  {
   "cell_type": "code",
   "execution_count": 3,
   "metadata": {},
   "outputs": [],
   "source": [
    "%matplotlib inline\n",
    "\n",
    "import pandas as pd\n",
    "import numpy as np\n",
    "from scipy import stats\n",
    "import matplotlib.pyplot as plt\n",
    "import seaborn as sns\n",
    "\n",
    "import warnings\n",
    "warnings.filterwarnings('ignore')"
   ]
  },
  {
   "cell_type": "code",
   "execution_count": 4,
   "metadata": {},
   "outputs": [
    {
     "data": {
      "text/plain": [
       "(290, 3)"
      ]
     },
     "execution_count": 4,
     "metadata": {},
     "output_type": "execute_result"
    }
   ],
   "source": [
    "question = pd.read_csv('C:/Users/Owner/pydataenv/data/archive/schema.csv')\n",
    "question.shape"
   ]
  },
  {
   "cell_type": "code",
   "execution_count": 5,
   "metadata": {},
   "outputs": [
    {
     "data": {
      "text/html": [
       "<div>\n",
       "<style scoped>\n",
       "    .dataframe tbody tr th:only-of-type {\n",
       "        vertical-align: middle;\n",
       "    }\n",
       "\n",
       "    .dataframe tbody tr th {\n",
       "        vertical-align: top;\n",
       "    }\n",
       "\n",
       "    .dataframe thead th {\n",
       "        text-align: right;\n",
       "    }\n",
       "</style>\n",
       "<table border=\"1\" class=\"dataframe\">\n",
       "  <thead>\n",
       "    <tr style=\"text-align: right;\">\n",
       "      <th></th>\n",
       "      <th>Column</th>\n",
       "      <th>Question</th>\n",
       "      <th>Asked</th>\n",
       "    </tr>\n",
       "  </thead>\n",
       "  <tbody>\n",
       "    <tr>\n",
       "      <th>0</th>\n",
       "      <td>GenderSelect</td>\n",
       "      <td>Select your gender identity. - Selected Choice</td>\n",
       "      <td>All</td>\n",
       "    </tr>\n",
       "    <tr>\n",
       "      <th>1</th>\n",
       "      <td>GenderFreeForm</td>\n",
       "      <td>Select your gender identity. - A different ide...</td>\n",
       "      <td>All</td>\n",
       "    </tr>\n",
       "    <tr>\n",
       "      <th>2</th>\n",
       "      <td>Country</td>\n",
       "      <td>Select the country you currently live in.</td>\n",
       "      <td>All</td>\n",
       "    </tr>\n",
       "    <tr>\n",
       "      <th>3</th>\n",
       "      <td>Age</td>\n",
       "      <td>What's your age?</td>\n",
       "      <td>All</td>\n",
       "    </tr>\n",
       "    <tr>\n",
       "      <th>4</th>\n",
       "      <td>EmploymentStatus</td>\n",
       "      <td>What's your current employment status?</td>\n",
       "      <td>All</td>\n",
       "    </tr>\n",
       "  </tbody>\n",
       "</table>\n",
       "</div>"
      ],
      "text/plain": [
       "             Column                                           Question Asked\n",
       "0      GenderSelect     Select your gender identity. - Selected Choice   All\n",
       "1    GenderFreeForm  Select your gender identity. - A different ide...   All\n",
       "2           Country          Select the country you currently live in.   All\n",
       "3               Age                                   What's your age?   All\n",
       "4  EmploymentStatus             What's your current employment status?   All"
      ]
     },
     "execution_count": 5,
     "metadata": {},
     "output_type": "execute_result"
    }
   ],
   "source": [
    "question.head()"
   ]
  },
  {
   "cell_type": "code",
   "execution_count": 6,
   "metadata": {},
   "outputs": [
    {
     "data": {
      "text/html": [
       "<div>\n",
       "<style scoped>\n",
       "    .dataframe tbody tr th:only-of-type {\n",
       "        vertical-align: middle;\n",
       "    }\n",
       "\n",
       "    .dataframe tbody tr th {\n",
       "        vertical-align: top;\n",
       "    }\n",
       "\n",
       "    .dataframe thead th {\n",
       "        text-align: right;\n",
       "    }\n",
       "</style>\n",
       "<table border=\"1\" class=\"dataframe\">\n",
       "  <thead>\n",
       "    <tr style=\"text-align: right;\">\n",
       "      <th></th>\n",
       "      <th>Column</th>\n",
       "      <th>Question</th>\n",
       "      <th>Asked</th>\n",
       "    </tr>\n",
       "  </thead>\n",
       "  <tbody>\n",
       "    <tr>\n",
       "      <th>285</th>\n",
       "      <td>JobFactorRemote</td>\n",
       "      <td>How are you assessing potential job opportunit...</td>\n",
       "      <td>Learners</td>\n",
       "    </tr>\n",
       "    <tr>\n",
       "      <th>286</th>\n",
       "      <td>JobFactorIndustry</td>\n",
       "      <td>How are you assessing potential job opportunit...</td>\n",
       "      <td>Learners</td>\n",
       "    </tr>\n",
       "    <tr>\n",
       "      <th>287</th>\n",
       "      <td>JobFactorLeaderReputation</td>\n",
       "      <td>How are you assessing potential job opportunit...</td>\n",
       "      <td>Learners</td>\n",
       "    </tr>\n",
       "    <tr>\n",
       "      <th>288</th>\n",
       "      <td>JobFactorDiversity</td>\n",
       "      <td>How are you assessing potential job opportunit...</td>\n",
       "      <td>Learners</td>\n",
       "    </tr>\n",
       "    <tr>\n",
       "      <th>289</th>\n",
       "      <td>JobFactorPublishingOpportunity</td>\n",
       "      <td>How are you assessing potential job opportunit...</td>\n",
       "      <td>Learners</td>\n",
       "    </tr>\n",
       "  </tbody>\n",
       "</table>\n",
       "</div>"
      ],
      "text/plain": [
       "                             Column  \\\n",
       "285                 JobFactorRemote   \n",
       "286               JobFactorIndustry   \n",
       "287       JobFactorLeaderReputation   \n",
       "288              JobFactorDiversity   \n",
       "289  JobFactorPublishingOpportunity   \n",
       "\n",
       "                                              Question     Asked  \n",
       "285  How are you assessing potential job opportunit...  Learners  \n",
       "286  How are you assessing potential job opportunit...  Learners  \n",
       "287  How are you assessing potential job opportunit...  Learners  \n",
       "288  How are you assessing potential job opportunit...  Learners  \n",
       "289  How are you assessing potential job opportunit...  Learners  "
      ]
     },
     "execution_count": 6,
     "metadata": {},
     "output_type": "execute_result"
    }
   ],
   "source": [
    "question.tail()"
   ]
  },
  {
   "cell_type": "code",
   "execution_count": 7,
   "metadata": {},
   "outputs": [
    {
     "data": {
      "text/plain": [
       "(16716, 228)"
      ]
     },
     "execution_count": 7,
     "metadata": {},
     "output_type": "execute_result"
    }
   ],
   "source": [
    "mcq = pd.read_csv('C:/Users/Owner/pydataenv/data/archive/multipleChoiceResponses.csv', encoding=\"ISO-8859-1\", low_memory=False)\n",
    "mcq.shape"
   ]
  },
  {
   "cell_type": "code",
   "execution_count": 8,
   "metadata": {},
   "outputs": [
    {
     "data": {
      "text/plain": [
       "Index(['GenderSelect', 'Country', 'Age', 'EmploymentStatus', 'StudentStatus',\n",
       "       'LearningDataScience', 'CodeWriter', 'CareerSwitcher',\n",
       "       'CurrentJobTitleSelect', 'TitleFit',\n",
       "       ...\n",
       "       'JobFactorExperienceLevel', 'JobFactorDepartment', 'JobFactorTitle',\n",
       "       'JobFactorCompanyFunding', 'JobFactorImpact', 'JobFactorRemote',\n",
       "       'JobFactorIndustry', 'JobFactorLeaderReputation', 'JobFactorDiversity',\n",
       "       'JobFactorPublishingOpportunity'],\n",
       "      dtype='object', length=228)"
      ]
     },
     "execution_count": 8,
     "metadata": {},
     "output_type": "execute_result"
    }
   ],
   "source": [
    "mcq.columns"
   ]
  },
  {
   "cell_type": "code",
   "execution_count": 9,
   "metadata": {},
   "outputs": [
    {
     "data": {
      "text/html": [
       "<div>\n",
       "<style scoped>\n",
       "    .dataframe tbody tr th:only-of-type {\n",
       "        vertical-align: middle;\n",
       "    }\n",
       "\n",
       "    .dataframe tbody tr th {\n",
       "        vertical-align: top;\n",
       "    }\n",
       "\n",
       "    .dataframe thead th {\n",
       "        text-align: right;\n",
       "    }\n",
       "</style>\n",
       "<table border=\"1\" class=\"dataframe\">\n",
       "  <thead>\n",
       "    <tr style=\"text-align: right;\">\n",
       "      <th></th>\n",
       "      <th>GenderSelect</th>\n",
       "      <th>Country</th>\n",
       "      <th>Age</th>\n",
       "      <th>EmploymentStatus</th>\n",
       "      <th>StudentStatus</th>\n",
       "      <th>LearningDataScience</th>\n",
       "      <th>CodeWriter</th>\n",
       "      <th>CareerSwitcher</th>\n",
       "      <th>CurrentJobTitleSelect</th>\n",
       "      <th>TitleFit</th>\n",
       "      <th>...</th>\n",
       "      <th>JobFactorExperienceLevel</th>\n",
       "      <th>JobFactorDepartment</th>\n",
       "      <th>JobFactorTitle</th>\n",
       "      <th>JobFactorCompanyFunding</th>\n",
       "      <th>JobFactorImpact</th>\n",
       "      <th>JobFactorRemote</th>\n",
       "      <th>JobFactorIndustry</th>\n",
       "      <th>JobFactorLeaderReputation</th>\n",
       "      <th>JobFactorDiversity</th>\n",
       "      <th>JobFactorPublishingOpportunity</th>\n",
       "    </tr>\n",
       "  </thead>\n",
       "  <tbody>\n",
       "    <tr>\n",
       "      <th>0</th>\n",
       "      <td>Non-binary, genderqueer, or gender non-conforming</td>\n",
       "      <td>NaN</td>\n",
       "      <td>NaN</td>\n",
       "      <td>Employed full-time</td>\n",
       "      <td>NaN</td>\n",
       "      <td>NaN</td>\n",
       "      <td>Yes</td>\n",
       "      <td>NaN</td>\n",
       "      <td>DBA/Database Engineer</td>\n",
       "      <td>Fine</td>\n",
       "      <td>...</td>\n",
       "      <td>NaN</td>\n",
       "      <td>NaN</td>\n",
       "      <td>NaN</td>\n",
       "      <td>NaN</td>\n",
       "      <td>NaN</td>\n",
       "      <td>NaN</td>\n",
       "      <td>NaN</td>\n",
       "      <td>NaN</td>\n",
       "      <td>NaN</td>\n",
       "      <td>NaN</td>\n",
       "    </tr>\n",
       "    <tr>\n",
       "      <th>1</th>\n",
       "      <td>Female</td>\n",
       "      <td>United States</td>\n",
       "      <td>30.0</td>\n",
       "      <td>Not employed, but looking for work</td>\n",
       "      <td>NaN</td>\n",
       "      <td>NaN</td>\n",
       "      <td>NaN</td>\n",
       "      <td>NaN</td>\n",
       "      <td>NaN</td>\n",
       "      <td>NaN</td>\n",
       "      <td>...</td>\n",
       "      <td>NaN</td>\n",
       "      <td>NaN</td>\n",
       "      <td>NaN</td>\n",
       "      <td>NaN</td>\n",
       "      <td>NaN</td>\n",
       "      <td>NaN</td>\n",
       "      <td>NaN</td>\n",
       "      <td>Somewhat important</td>\n",
       "      <td>NaN</td>\n",
       "      <td>NaN</td>\n",
       "    </tr>\n",
       "    <tr>\n",
       "      <th>2</th>\n",
       "      <td>Male</td>\n",
       "      <td>Canada</td>\n",
       "      <td>28.0</td>\n",
       "      <td>Not employed, but looking for work</td>\n",
       "      <td>NaN</td>\n",
       "      <td>NaN</td>\n",
       "      <td>NaN</td>\n",
       "      <td>NaN</td>\n",
       "      <td>NaN</td>\n",
       "      <td>NaN</td>\n",
       "      <td>...</td>\n",
       "      <td>Very Important</td>\n",
       "      <td>Very Important</td>\n",
       "      <td>Very Important</td>\n",
       "      <td>Very Important</td>\n",
       "      <td>Very Important</td>\n",
       "      <td>Very Important</td>\n",
       "      <td>Very Important</td>\n",
       "      <td>Very Important</td>\n",
       "      <td>Very Important</td>\n",
       "      <td>Very Important</td>\n",
       "    </tr>\n",
       "    <tr>\n",
       "      <th>3</th>\n",
       "      <td>Male</td>\n",
       "      <td>United States</td>\n",
       "      <td>56.0</td>\n",
       "      <td>Independent contractor, freelancer, or self-em...</td>\n",
       "      <td>NaN</td>\n",
       "      <td>NaN</td>\n",
       "      <td>Yes</td>\n",
       "      <td>NaN</td>\n",
       "      <td>Operations Research Practitioner</td>\n",
       "      <td>Poorly</td>\n",
       "      <td>...</td>\n",
       "      <td>NaN</td>\n",
       "      <td>NaN</td>\n",
       "      <td>NaN</td>\n",
       "      <td>NaN</td>\n",
       "      <td>NaN</td>\n",
       "      <td>NaN</td>\n",
       "      <td>NaN</td>\n",
       "      <td>NaN</td>\n",
       "      <td>NaN</td>\n",
       "      <td>NaN</td>\n",
       "    </tr>\n",
       "    <tr>\n",
       "      <th>4</th>\n",
       "      <td>Male</td>\n",
       "      <td>Taiwan</td>\n",
       "      <td>38.0</td>\n",
       "      <td>Employed full-time</td>\n",
       "      <td>NaN</td>\n",
       "      <td>NaN</td>\n",
       "      <td>Yes</td>\n",
       "      <td>NaN</td>\n",
       "      <td>Computer Scientist</td>\n",
       "      <td>Fine</td>\n",
       "      <td>...</td>\n",
       "      <td>NaN</td>\n",
       "      <td>NaN</td>\n",
       "      <td>NaN</td>\n",
       "      <td>NaN</td>\n",
       "      <td>NaN</td>\n",
       "      <td>NaN</td>\n",
       "      <td>NaN</td>\n",
       "      <td>NaN</td>\n",
       "      <td>NaN</td>\n",
       "      <td>NaN</td>\n",
       "    </tr>\n",
       "  </tbody>\n",
       "</table>\n",
       "<p>5 rows × 228 columns</p>\n",
       "</div>"
      ],
      "text/plain": [
       "                                        GenderSelect        Country   Age  \\\n",
       "0  Non-binary, genderqueer, or gender non-conforming            NaN   NaN   \n",
       "1                                             Female  United States  30.0   \n",
       "2                                               Male         Canada  28.0   \n",
       "3                                               Male  United States  56.0   \n",
       "4                                               Male         Taiwan  38.0   \n",
       "\n",
       "                                    EmploymentStatus StudentStatus  \\\n",
       "0                                 Employed full-time           NaN   \n",
       "1                 Not employed, but looking for work           NaN   \n",
       "2                 Not employed, but looking for work           NaN   \n",
       "3  Independent contractor, freelancer, or self-em...           NaN   \n",
       "4                                 Employed full-time           NaN   \n",
       "\n",
       "  LearningDataScience CodeWriter CareerSwitcher  \\\n",
       "0                 NaN        Yes            NaN   \n",
       "1                 NaN        NaN            NaN   \n",
       "2                 NaN        NaN            NaN   \n",
       "3                 NaN        Yes            NaN   \n",
       "4                 NaN        Yes            NaN   \n",
       "\n",
       "              CurrentJobTitleSelect TitleFit  ... JobFactorExperienceLevel  \\\n",
       "0             DBA/Database Engineer     Fine  ...                      NaN   \n",
       "1                               NaN      NaN  ...                      NaN   \n",
       "2                               NaN      NaN  ...           Very Important   \n",
       "3  Operations Research Practitioner   Poorly  ...                      NaN   \n",
       "4                Computer Scientist     Fine  ...                      NaN   \n",
       "\n",
       "  JobFactorDepartment  JobFactorTitle JobFactorCompanyFunding JobFactorImpact  \\\n",
       "0                 NaN             NaN                     NaN             NaN   \n",
       "1                 NaN             NaN                     NaN             NaN   \n",
       "2      Very Important  Very Important          Very Important  Very Important   \n",
       "3                 NaN             NaN                     NaN             NaN   \n",
       "4                 NaN             NaN                     NaN             NaN   \n",
       "\n",
       "  JobFactorRemote JobFactorIndustry JobFactorLeaderReputation  \\\n",
       "0             NaN               NaN                       NaN   \n",
       "1             NaN               NaN        Somewhat important   \n",
       "2  Very Important    Very Important            Very Important   \n",
       "3             NaN               NaN                       NaN   \n",
       "4             NaN               NaN                       NaN   \n",
       "\n",
       "  JobFactorDiversity JobFactorPublishingOpportunity  \n",
       "0                NaN                            NaN  \n",
       "1                NaN                            NaN  \n",
       "2     Very Important                 Very Important  \n",
       "3                NaN                            NaN  \n",
       "4                NaN                            NaN  \n",
       "\n",
       "[5 rows x 228 columns]"
      ]
     },
     "execution_count": 9,
     "metadata": {},
     "output_type": "execute_result"
    }
   ],
   "source": [
    "mcq.head()"
   ]
  },
  {
   "cell_type": "code",
   "execution_count": 10,
   "metadata": {},
   "outputs": [
    {
     "data": {
      "text/plain": [
       "<AxesSubplot:>"
      ]
     },
     "execution_count": 10,
     "metadata": {},
     "output_type": "execute_result"
    },
    {
     "data": {
      "image/png": "[encoded data removed]",
      "text/plain": [
       "<Figure size 864x360 with 2 Axes>"
      ]
     },
     "metadata": {
      "needs_background": "light"
     },
     "output_type": "display_data"
    }
   ],
   "source": [
    "#missingnosはNaNデータに関して視覚化してる。\n",
    "#NaNデータのカラムが多くて下記のグラフだけは把握しにくい\n",
    "\n",
    "import missingno as mssn\n",
    "mssn.matrix(mcq, figsize=(12,5))"
   ]
  },
  {
   "cell_type": "code",
   "execution_count": 11,
   "metadata": {},
   "outputs": [
    {
     "data": {
      "text/plain": [
       "<AxesSubplot:xlabel='count', ylabel='GenderSelect'>"
      ]
     },
     "execution_count": 11,
     "metadata": {},
     "output_type": "execute_result"
    },
    {
     "data": {
      "image/png": "[encoded data removed]",
      "text/plain": [
       "<Figure size 432x288 with 1 Axes>"
      ]
     },
     "metadata": {
      "needs_background": "light"
     },
     "output_type": "display_data"
    }
   ],
   "source": [
    "#性別\n",
    "sns.countplot(y='GenderSelect', data=mcq)"
   ]
  },
  {
   "cell_type": "code",
   "execution_count": 12,
   "metadata": {},
   "outputs": [
    {
     "data": {
      "text/html": [
       "<div>\n",
       "<style scoped>\n",
       "    .dataframe tbody tr th:only-of-type {\n",
       "        vertical-align: middle;\n",
       "    }\n",
       "\n",
       "    .dataframe tbody tr th {\n",
       "        vertical-align: top;\n",
       "    }\n",
       "\n",
       "    .dataframe thead th {\n",
       "        text-align: right;\n",
       "    }\n",
       "</style>\n",
       "<table border=\"1\" class=\"dataframe\">\n",
       "  <thead>\n",
       "    <tr style=\"text-align: right;\">\n",
       "      <th></th>\n",
       "      <th>応答数</th>\n",
       "      <th>国家</th>\n",
       "    </tr>\n",
       "  </thead>\n",
       "  <tbody>\n",
       "    <tr>\n",
       "      <th>0</th>\n",
       "      <td>4197</td>\n",
       "      <td>United States</td>\n",
       "    </tr>\n",
       "    <tr>\n",
       "      <th>1</th>\n",
       "      <td>2704</td>\n",
       "      <td>India</td>\n",
       "    </tr>\n",
       "    <tr>\n",
       "      <th>2</th>\n",
       "      <td>1023</td>\n",
       "      <td>Other</td>\n",
       "    </tr>\n",
       "    <tr>\n",
       "      <th>3</th>\n",
       "      <td>578</td>\n",
       "      <td>Russia</td>\n",
       "    </tr>\n",
       "    <tr>\n",
       "      <th>4</th>\n",
       "      <td>535</td>\n",
       "      <td>United Kingdom</td>\n",
       "    </tr>\n",
       "    <tr>\n",
       "      <th>5</th>\n",
       "      <td>471</td>\n",
       "      <td>People 's Republic of China</td>\n",
       "    </tr>\n",
       "    <tr>\n",
       "      <th>6</th>\n",
       "      <td>465</td>\n",
       "      <td>Brazil</td>\n",
       "    </tr>\n",
       "    <tr>\n",
       "      <th>7</th>\n",
       "      <td>460</td>\n",
       "      <td>Germany</td>\n",
       "    </tr>\n",
       "    <tr>\n",
       "      <th>8</th>\n",
       "      <td>442</td>\n",
       "      <td>France</td>\n",
       "    </tr>\n",
       "    <tr>\n",
       "      <th>9</th>\n",
       "      <td>440</td>\n",
       "      <td>Canada</td>\n",
       "    </tr>\n",
       "    <tr>\n",
       "      <th>10</th>\n",
       "      <td>421</td>\n",
       "      <td>Australia</td>\n",
       "    </tr>\n",
       "    <tr>\n",
       "      <th>11</th>\n",
       "      <td>320</td>\n",
       "      <td>Spain</td>\n",
       "    </tr>\n",
       "    <tr>\n",
       "      <th>12</th>\n",
       "      <td>277</td>\n",
       "      <td>Japan</td>\n",
       "    </tr>\n",
       "    <tr>\n",
       "      <th>13</th>\n",
       "      <td>254</td>\n",
       "      <td>Taiwan</td>\n",
       "    </tr>\n",
       "    <tr>\n",
       "      <th>14</th>\n",
       "      <td>238</td>\n",
       "      <td>Italy</td>\n",
       "    </tr>\n",
       "    <tr>\n",
       "      <th>15</th>\n",
       "      <td>205</td>\n",
       "      <td>Netherlands</td>\n",
       "    </tr>\n",
       "    <tr>\n",
       "      <th>16</th>\n",
       "      <td>196</td>\n",
       "      <td>Ukraine</td>\n",
       "    </tr>\n",
       "    <tr>\n",
       "      <th>17</th>\n",
       "      <td>194</td>\n",
       "      <td>South Korea</td>\n",
       "    </tr>\n",
       "    <tr>\n",
       "      <th>18</th>\n",
       "      <td>184</td>\n",
       "      <td>Singapore</td>\n",
       "    </tr>\n",
       "    <tr>\n",
       "      <th>19</th>\n",
       "      <td>184</td>\n",
       "      <td>Poland</td>\n",
       "    </tr>\n",
       "  </tbody>\n",
       "</table>\n",
       "</div>"
      ],
      "text/plain": [
       "     応答数                           国家\n",
       "0   4197                United States\n",
       "1   2704                        India\n",
       "2   1023                        Other\n",
       "3    578                       Russia\n",
       "4    535               United Kingdom\n",
       "5    471  People 's Republic of China\n",
       "6    465                       Brazil\n",
       "7    460                      Germany\n",
       "8    442                       France\n",
       "9    440                       Canada\n",
       "10   421                    Australia\n",
       "11   320                        Spain\n",
       "12   277                        Japan\n",
       "13   254                       Taiwan\n",
       "14   238                        Italy\n",
       "15   205                  Netherlands\n",
       "16   196                      Ukraine\n",
       "17   194                  South Korea\n",
       "18   184                    Singapore\n",
       "19   184                       Poland"
      ]
     },
     "execution_count": 12,
     "metadata": {},
     "output_type": "execute_result"
    }
   ],
   "source": [
    "#国籍別\n",
    "con_df = pd.DataFrame(mcq['Country'].value_counts())\n",
    "#print(con_df)\n",
    "#'country'をindexにする\n",
    "con_df['国家'] = con_df.index\n",
    "#print(con_df)\n",
    "con_df.columns = ['応答数','国家']\n",
    "#print(con_df)\n",
    "con_df = con_df.reset_index().drop('index',axis=1)\n",
    "# print(con_df)\n",
    "con_df.head(20)"
   ]
  },
  {
   "cell_type": "code",
   "execution_count": 13,
   "metadata": {},
   "outputs": [
    {
     "data": {
      "text/plain": [
       "count    16385.000000\n",
       "mean        32.372841\n",
       "std         10.473487\n",
       "min          0.000000\n",
       "25%         25.000000\n",
       "50%         30.000000\n",
       "75%         37.000000\n",
       "max        100.000000\n",
       "Name: Age, dtype: float64"
      ]
     },
     "execution_count": 13,
     "metadata": {},
     "output_type": "execute_result"
    }
   ],
   "source": [
    "mcq['Age'].describe()"
   ]
  },
  {
   "cell_type": "code",
   "execution_count": 14,
   "metadata": {},
   "outputs": [
    {
     "data": {
      "text/plain": [
       "<AxesSubplot:xlabel='Age', ylabel='Density'>"
      ]
     },
     "execution_count": 14,
     "metadata": {},
     "output_type": "execute_result"
    },
    {
     "data": {
      "image/png": "[encoded data removed]",
      "text/plain": [
       "<Figure size 432x288 with 1 Axes>"
      ]
     },
     "metadata": {
      "needs_background": "light"
     },
     "output_type": "display_data"
    }
   ],
   "source": [
    "sns.distplot(mcq[mcq['Age'] > 0]['Age'])"
   ]
  },
  {
   "cell_type": "code",
   "execution_count": 15,
   "metadata": {},
   "outputs": [
    {
     "data": {
      "text/plain": [
       "<AxesSubplot:xlabel='count', ylabel='FormalEducation'>"
      ]
     },
     "execution_count": 15,
     "metadata": {},
     "output_type": "execute_result"
    },
    {
     "data": {
      "image/png": "[encoded data removed]",
      "text/plain": [
       "<Figure size 432x288 with 1 Axes>"
      ]
     },
     "metadata": {
      "needs_background": "light"
     },
     "output_type": "display_data"
    }
   ],
   "source": [
    "#学歴\n",
    "sns.countplot(y='FormalEducation', data=mcq)"
   ]
  },
  {
   "cell_type": "code",
   "execution_count": 16,
   "metadata": {},
   "outputs": [
    {
     "data": {
      "text/html": [
       "<div>\n",
       "<style scoped>\n",
       "    .dataframe tbody tr th:only-of-type {\n",
       "        vertical-align: middle;\n",
       "    }\n",
       "\n",
       "    .dataframe tbody tr th {\n",
       "        vertical-align: top;\n",
       "    }\n",
       "\n",
       "    .dataframe thead th {\n",
       "        text-align: right;\n",
       "    }\n",
       "</style>\n",
       "<table border=\"1\" class=\"dataframe\">\n",
       "  <thead>\n",
       "    <tr style=\"text-align: right;\">\n",
       "      <th></th>\n",
       "      <th>応答数</th>\n",
       "      <th>比率</th>\n",
       "    </tr>\n",
       "  </thead>\n",
       "  <tbody>\n",
       "    <tr>\n",
       "      <th>Computer Science</th>\n",
       "      <td>4397</td>\n",
       "      <td>0.331074</td>\n",
       "    </tr>\n",
       "    <tr>\n",
       "      <th>Mathematics or statistics</th>\n",
       "      <td>2220</td>\n",
       "      <td>0.167156</td>\n",
       "    </tr>\n",
       "    <tr>\n",
       "      <th>Engineering (non-computer focused)</th>\n",
       "      <td>1339</td>\n",
       "      <td>0.100821</td>\n",
       "    </tr>\n",
       "    <tr>\n",
       "      <th>Electrical Engineering</th>\n",
       "      <td>1303</td>\n",
       "      <td>0.098110</td>\n",
       "    </tr>\n",
       "    <tr>\n",
       "      <th>Other</th>\n",
       "      <td>848</td>\n",
       "      <td>0.063851</td>\n",
       "    </tr>\n",
       "    <tr>\n",
       "      <th>Physics</th>\n",
       "      <td>830</td>\n",
       "      <td>0.062495</td>\n",
       "    </tr>\n",
       "    <tr>\n",
       "      <th>Information technology, networking, or system administration</th>\n",
       "      <td>693</td>\n",
       "      <td>0.052180</td>\n",
       "    </tr>\n",
       "    <tr>\n",
       "      <th>A social science</th>\n",
       "      <td>531</td>\n",
       "      <td>0.039982</td>\n",
       "    </tr>\n",
       "    <tr>\n",
       "      <th>Biology</th>\n",
       "      <td>274</td>\n",
       "      <td>0.020631</td>\n",
       "    </tr>\n",
       "    <tr>\n",
       "      <th>Management information systems</th>\n",
       "      <td>237</td>\n",
       "      <td>0.017845</td>\n",
       "    </tr>\n",
       "    <tr>\n",
       "      <th>A humanities discipline</th>\n",
       "      <td>198</td>\n",
       "      <td>0.014909</td>\n",
       "    </tr>\n",
       "    <tr>\n",
       "      <th>A health science</th>\n",
       "      <td>152</td>\n",
       "      <td>0.011445</td>\n",
       "    </tr>\n",
       "    <tr>\n",
       "      <th>Psychology</th>\n",
       "      <td>137</td>\n",
       "      <td>0.010315</td>\n",
       "    </tr>\n",
       "    <tr>\n",
       "      <th>I never declared a major</th>\n",
       "      <td>65</td>\n",
       "      <td>0.004894</td>\n",
       "    </tr>\n",
       "    <tr>\n",
       "      <th>Fine arts or performing arts</th>\n",
       "      <td>57</td>\n",
       "      <td>0.004292</td>\n",
       "    </tr>\n",
       "  </tbody>\n",
       "</table>\n",
       "</div>"
      ],
      "text/plain": [
       "                                                     応答数        比率\n",
       "Computer Science                                    4397  0.331074\n",
       "Mathematics or statistics                           2220  0.167156\n",
       "Engineering (non-computer focused)                  1339  0.100821\n",
       "Electrical Engineering                              1303  0.098110\n",
       "Other                                                848  0.063851\n",
       "Physics                                              830  0.062495\n",
       "Information technology, networking, or system a...   693  0.052180\n",
       "A social science                                     531  0.039982\n",
       "Biology                                              274  0.020631\n",
       "Management information systems                       237  0.017845\n",
       "A humanities discipline                              198  0.014909\n",
       "A health science                                     152  0.011445\n",
       "Psychology                                           137  0.010315\n",
       "I never declared a major                              65  0.004894\n",
       "Fine arts or performing arts                          57  0.004292"
      ]
     },
     "execution_count": 16,
     "metadata": {},
     "output_type": "execute_result"
    }
   ],
   "source": [
    "#major\n",
    "mcq_major_cnt = pd.DataFrame(mcq['MajorSelect'].value_counts())\n",
    "# print(mcq_major_cnt)\n",
    "mcq_major_per = pd.DataFrame(mcq['MajorSelect'].value_counts(normalize=True))\n",
    "# print(mcq_major_per)\n",
    "mcq_major_df = mcq_major_cnt.merge(mcq_major_per, left_index = True, right_index = True)\n",
    "# print(mcq_major_df)\n",
    "\n",
    "mcq_major_df2 = pd.concat([mcq_major_cnt,mcq_major_per], axis=1)\n",
    "# print(mcq_major_df2)\n",
    "mcq_major_df2.columns= ['応答数','比率']\n",
    "mcq_major_df2"
   ]
  },
  {
   "cell_type": "code",
   "execution_count": 17,
   "metadata": {},
   "outputs": [
    {
     "data": {
      "text/plain": [
       "<AxesSubplot:xlabel='count', ylabel='MajorSelect'>"
      ]
     },
     "execution_count": 17,
     "metadata": {},
     "output_type": "execute_result"
    },
    {
     "data": {
      "image/png": "[encoded data removed]",
      "text/plain": [
       "<Figure size 432x576 with 1 Axes>"
      ]
     },
     "metadata": {
      "needs_background": "light"
     },
     "output_type": "display_data"
    }
   ],
   "source": [
    "#在学中の人の専攻\n",
    "plt.figure(figsize=(6,8))\n",
    "sns.countplot(y='MajorSelect', data = mcq)"
   ]
  },
  {
   "cell_type": "code",
   "execution_count": 18,
   "metadata": {},
   "outputs": [
    {
     "data": {
      "text/html": [
       "<div>\n",
       "<style scoped>\n",
       "    .dataframe tbody tr th:only-of-type {\n",
       "        vertical-align: middle;\n",
       "    }\n",
       "\n",
       "    .dataframe tbody tr th {\n",
       "        vertical-align: top;\n",
       "    }\n",
       "\n",
       "    .dataframe thead th {\n",
       "        text-align: right;\n",
       "    }\n",
       "</style>\n",
       "<table border=\"1\" class=\"dataframe\">\n",
       "  <thead>\n",
       "    <tr style=\"text-align: right;\">\n",
       "      <th></th>\n",
       "      <th>応答数</th>\n",
       "      <th>比率</th>\n",
       "    </tr>\n",
       "  </thead>\n",
       "  <tbody>\n",
       "    <tr>\n",
       "      <th>Employed full-time</th>\n",
       "      <td>10897</td>\n",
       "      <td>0.651890</td>\n",
       "    </tr>\n",
       "    <tr>\n",
       "      <th>Not employed, but looking for work</th>\n",
       "      <td>2110</td>\n",
       "      <td>0.126226</td>\n",
       "    </tr>\n",
       "    <tr>\n",
       "      <th>Independent contractor, freelancer, or self-employed</th>\n",
       "      <td>1330</td>\n",
       "      <td>0.079564</td>\n",
       "    </tr>\n",
       "    <tr>\n",
       "      <th>Not employed, and not looking for work</th>\n",
       "      <td>924</td>\n",
       "      <td>0.055276</td>\n",
       "    </tr>\n",
       "    <tr>\n",
       "      <th>Employed part-time</th>\n",
       "      <td>917</td>\n",
       "      <td>0.054858</td>\n",
       "    </tr>\n",
       "    <tr>\n",
       "      <th>I prefer not to say</th>\n",
       "      <td>420</td>\n",
       "      <td>0.025126</td>\n",
       "    </tr>\n",
       "    <tr>\n",
       "      <th>Retired</th>\n",
       "      <td>118</td>\n",
       "      <td>0.007059</td>\n",
       "    </tr>\n",
       "  </tbody>\n",
       "</table>\n",
       "</div>"
      ],
      "text/plain": [
       "                                                      応答数        比率\n",
       "Employed full-time                                  10897  0.651890\n",
       "Not employed, but looking for work                   2110  0.126226\n",
       "Independent contractor, freelancer, or self-emp...   1330  0.079564\n",
       "Not employed, and not looking for work                924  0.055276\n",
       "Employed part-time                                    917  0.054858\n",
       "I prefer not to say                                   420  0.025126\n",
       "Retired                                               118  0.007059"
      ]
     },
     "execution_count": 18,
     "metadata": {},
     "output_type": "execute_result"
    }
   ],
   "source": [
    "#在職かないか\n",
    "mcq_es_cnt = pd.DataFrame(mcq['EmploymentStatus'].value_counts())\n",
    "mcq_es_per = pd.DataFrame(mcq['EmploymentStatus'].value_counts(normalize=True))\n",
    "# mcq_es_per\n",
    "mcq_es_df = pd.concat([mcq_es_cnt,mcq_es_per], axis=1)\n",
    "# mcq_es_df\n",
    "mcq_es_df.columns = ['応答数','比率']\n",
    "mcq_es_df"
   ]
  },
  {
   "cell_type": "code",
   "execution_count": 19,
   "metadata": {},
   "outputs": [
    {
     "data": {
      "text/plain": [
       "<AxesSubplot:xlabel='count', ylabel='EmploymentStatus'>"
      ]
     },
     "execution_count": 19,
     "metadata": {},
     "output_type": "execute_result"
    },
    {
     "data": {
      "image/png": "[encoded data removed]",
      "text/plain": [
       "<Figure size 432x288 with 1 Axes>"
      ]
     },
     "metadata": {
      "needs_background": "light"
     },
     "output_type": "display_data"
    }
   ],
   "source": [
    "sns.countplot(y='EmploymentStatus', data=mcq)"
   ]
  },
  {
   "cell_type": "code",
   "execution_count": 20,
   "metadata": {},
   "outputs": [
    {
     "data": {
      "text/plain": [
       "<AxesSubplot:xlabel='count', ylabel='Tenure'>"
      ]
     },
     "execution_count": 20,
     "metadata": {},
     "output_type": "execute_result"
    },
    {
     "data": {
      "image/png": "[encoded data removed]",
      "text/plain": [
       "<Figure size 432x288 with 1 Axes>"
      ]
     },
     "metadata": {
      "needs_background": "light"
     },
     "output_type": "display_data"
    }
   ],
   "source": [
    "#programming経験\n",
    "sns.countplot(y='Tenure', data=mcq)"
   ]
  },
  {
   "cell_type": "code",
   "execution_count": 21,
   "metadata": {},
   "outputs": [
    {
     "name": "stdout",
     "output_type": "stream",
     "text": [
      "The number of interviewees in Korea: 194\n"
     ]
    },
    {
     "data": {
      "image/png": "[encoded data removed]",
      "text/plain": [
       "<Figure size 432x288 with 1 Axes>"
      ]
     },
     "metadata": {
      "needs_background": "light"
     },
     "output_type": "display_data"
    }
   ],
   "source": [
    "korea = mcq.query('Country == \"South Korea\"')\n",
    "korea.shape\n",
    "print('The number of interviewees in Korea: ' + str(korea.shape[0]))\n",
    "\n",
    "sns.distplot(korea['Age'].dropna())\n",
    "plt.title('Korean')\n",
    "plt.show()"
   ]
  },
  {
   "cell_type": "code",
   "execution_count": 22,
   "metadata": {},
   "outputs": [
    {
     "data": {
      "text/html": [
       "<div>\n",
       "<style scoped>\n",
       "    .dataframe tbody tr th:only-of-type {\n",
       "        vertical-align: middle;\n",
       "    }\n",
       "\n",
       "    .dataframe tbody tr th {\n",
       "        vertical-align: top;\n",
       "    }\n",
       "\n",
       "    .dataframe thead th {\n",
       "        text-align: right;\n",
       "    }\n",
       "</style>\n",
       "<table border=\"1\" class=\"dataframe\">\n",
       "  <thead>\n",
       "    <tr style=\"text-align: right;\">\n",
       "      <th></th>\n",
       "      <th>GenderSelect</th>\n",
       "    </tr>\n",
       "  </thead>\n",
       "  <tbody>\n",
       "    <tr>\n",
       "      <th>Male</th>\n",
       "      <td>156</td>\n",
       "    </tr>\n",
       "    <tr>\n",
       "      <th>Female</th>\n",
       "      <td>37</td>\n",
       "    </tr>\n",
       "    <tr>\n",
       "      <th>A different identity</th>\n",
       "      <td>1</td>\n",
       "    </tr>\n",
       "  </tbody>\n",
       "</table>\n",
       "</div>"
      ],
      "text/plain": [
       "                      GenderSelect\n",
       "Male                           156\n",
       "Female                          37\n",
       "A different identity             1"
      ]
     },
     "execution_count": 22,
     "metadata": {},
     "output_type": "execute_result"
    }
   ],
   "source": [
    "pd.DataFrame(korea['GenderSelect'].value_counts())"
   ]
  },
  {
   "cell_type": "code",
   "execution_count": 23,
   "metadata": {},
   "outputs": [
    {
     "data": {
      "text/plain": [
       "<AxesSubplot:xlabel='GenderSelect', ylabel='count'>"
      ]
     },
     "execution_count": 23,
     "metadata": {},
     "output_type": "execute_result"
    },
    {
     "data": {
      "image/png": "[encoded data removed]",
      "text/plain": [
       "<Figure size 432x288 with 1 Axes>"
      ]
     },
     "metadata": {
      "needs_background": "light"
     },
     "output_type": "display_data"
    }
   ],
   "source": [
    "sns.countplot(x='GenderSelect', data=korea)"
   ]
  },
  {
   "cell_type": "code",
   "execution_count": 24,
   "metadata": {},
   "outputs": [
    {
     "data": {
      "text/plain": [
       "Text(0.5, 1.0, 'korean Male')"
      ]
     },
     "execution_count": 24,
     "metadata": {},
     "output_type": "execute_result"
    },
    {
     "data": {
      "image/png": "[encoded data removed]",
      "text/plain": [
       "<Figure size 864x360 with 2 Axes>"
      ]
     },
     "metadata": {
      "needs_background": "light"
     },
     "output_type": "display_data"
    }
   ],
   "source": [
    "figure, (ax1, ax2) = plt.subplots(ncols=2)\n",
    "\n",
    "figure.set_size_inches(12,5)\n",
    "# sns.distplot(korea['age'])\n",
    "korea2=korea.query('GenderSelect==\"Female\"')\n",
    "sns.distplot(korea2['Age'].dropna(), norm_hist=False, color=sns.color_palette(\"Paired\")[4], ax=ax1)\n",
    "plt.title('korean Female')\n",
    "\n",
    "sns.distplot(korea['Age'].loc[korea['GenderSelect'] == 'Male'].dropna(), norm_hist=False, color=sns.color_palette(\"Paired\")[0], ax=ax2)\n",
    "plt.title('korean Male')\n",
    "\n",
    "# korea['Age'].loc[korea.query('GenderSelect==\"Female\"')].dropna()\n",
    "# korea['Age'].loc[korea['GenderSelect']=='Female'].dropna()\n",
    "# korea.query('GenderSelect == \"Female\"')\n",
    "# .dropna()"
   ]
  },
  {
   "cell_type": "code",
   "execution_count": 25,
   "metadata": {
    "scrolled": true
   },
   "outputs": [
    {
     "data": {
      "image/png": "[encoded data removed]",
      "text/plain": [
       "<Figure size 432x288 with 1 Axes>"
      ]
     },
     "metadata": {
      "needs_background": "light"
     },
     "output_type": "display_data"
    }
   ],
   "source": [
    "korea['EmploymentStatus'].unique()\n",
    "\n",
    "sns.barplot(x=korea['EmploymentStatus'].unique(), y=korea['EmploymentStatus'].value_counts())\n",
    "plt.xticks(rotation = 30, ha = 'right')\n",
    "plt.title('Employment status of korean')\n",
    "plt.ylabel('')\n",
    "plt.show()"
   ]
  },
  {
   "cell_type": "code",
   "execution_count": 26,
   "metadata": {},
   "outputs": [
    {
     "data": {
      "text/plain": [
       "<AxesSubplot:xlabel='StudentStatus', ylabel='count'>"
      ]
     },
     "execution_count": 26,
     "metadata": {},
     "output_type": "execute_result"
    },
    {
     "data": {
      "image/png": "[encoded data removed]",
      "text/plain": [
       "<Figure size 432x288 with 1 Axes>"
      ]
     },
     "metadata": {
      "needs_background": "light"
     },
     "output_type": "display_data"
    }
   ],
   "source": [
    "korea['StudentStatus'] = korea['StudentStatus'].fillna('No')\n",
    "korea\n",
    "sns.countplot(x='StudentStatus', data=korea)\n"
   ]
  },
  {
   "cell_type": "code",
   "execution_count": 27,
   "metadata": {},
   "outputs": [
    {
     "data": {
      "text/plain": [
       "<AxesSubplot:xlabel='count', ylabel='LanguageRecommendationSelect'>"
      ]
     },
     "execution_count": 27,
     "metadata": {},
     "output_type": "execute_result"
    },
    {
     "data": {
      "image/png": "[encoded data removed]",
      "text/plain": [
       "<Figure size 432x288 with 1 Axes>"
      ]
     },
     "metadata": {
      "needs_background": "light"
     },
     "output_type": "display_data"
    }
   ],
   "source": [
    "sns.countplot(y='LanguageRecommendationSelect', data=mcq)"
   ]
  },
  {
   "cell_type": "code",
   "execution_count": 28,
   "metadata": {
    "scrolled": true
   },
   "outputs": [],
   "source": [
    "# df = pd.read_csv('C:/Users/Owner/pydataenv/data/201704health.csv')\n",
    "# df"
   ]
  },
  {
   "cell_type": "code",
   "execution_count": 29,
   "metadata": {},
   "outputs": [],
   "source": [
    "# !kaggle config view"
   ]
  },
  {
   "cell_type": "code",
   "execution_count": 30,
   "metadata": {},
   "outputs": [
    {
     "data": {
      "text/plain": [
       "<AxesSubplot:xlabel='count', ylabel='CurrentJobTitleSelect'>"
      ]
     },
     "execution_count": 30,
     "metadata": {},
     "output_type": "execute_result"
    },
    {
     "data": {
      "image/png": "[encoded data removed]",
      "text/plain": [
       "<Figure size 432x288 with 1 Axes>"
      ]
     },
     "metadata": {
      "needs_background": "light"
     },
     "output_type": "display_data"
    }
   ],
   "source": [
    "#現在やってる仕事\n",
    "sns.countplot(y='CurrentJobTitleSelect', data=mcq)"
   ]
  },
  {
   "cell_type": "code",
   "execution_count": 31,
   "metadata": {},
   "outputs": [
    {
     "data": {
      "text/plain": [
       "(11830,)"
      ]
     },
     "execution_count": 31,
     "metadata": {},
     "output_type": "execute_result"
    }
   ],
   "source": [
    "mcq[mcq['CurrentJobTitleSelect'].notnull()]['CurrentJobTitleSelect'].shape\n",
    "# .shape"
   ]
  },
  {
   "cell_type": "code",
   "execution_count": 32,
   "metadata": {},
   "outputs": [
    {
     "data": {
      "text/html": [
       "<div>\n",
       "<style scoped>\n",
       "    .dataframe tbody tr th:only-of-type {\n",
       "        vertical-align: middle;\n",
       "    }\n",
       "\n",
       "    .dataframe tbody tr th {\n",
       "        vertical-align: top;\n",
       "    }\n",
       "\n",
       "    .dataframe thead th {\n",
       "        text-align: right;\n",
       "    }\n",
       "</style>\n",
       "<table border=\"1\" class=\"dataframe\">\n",
       "  <thead>\n",
       "    <tr style=\"text-align: right;\">\n",
       "      <th></th>\n",
       "      <th>GenderSelect</th>\n",
       "      <th>Country</th>\n",
       "      <th>Age</th>\n",
       "      <th>EmploymentStatus</th>\n",
       "      <th>StudentStatus</th>\n",
       "      <th>LearningDataScience</th>\n",
       "      <th>CodeWriter</th>\n",
       "      <th>CareerSwitcher</th>\n",
       "      <th>CurrentJobTitleSelect</th>\n",
       "      <th>TitleFit</th>\n",
       "      <th>...</th>\n",
       "      <th>JobFactorExperienceLevel</th>\n",
       "      <th>JobFactorDepartment</th>\n",
       "      <th>JobFactorTitle</th>\n",
       "      <th>JobFactorCompanyFunding</th>\n",
       "      <th>JobFactorImpact</th>\n",
       "      <th>JobFactorRemote</th>\n",
       "      <th>JobFactorIndustry</th>\n",
       "      <th>JobFactorLeaderReputation</th>\n",
       "      <th>JobFactorDiversity</th>\n",
       "      <th>JobFactorPublishingOpportunity</th>\n",
       "    </tr>\n",
       "  </thead>\n",
       "  <tbody>\n",
       "    <tr>\n",
       "      <th>3</th>\n",
       "      <td>Male</td>\n",
       "      <td>United States</td>\n",
       "      <td>56.0</td>\n",
       "      <td>Independent contractor, freelancer, or self-em...</td>\n",
       "      <td>NaN</td>\n",
       "      <td>NaN</td>\n",
       "      <td>Yes</td>\n",
       "      <td>NaN</td>\n",
       "      <td>Operations Research Practitioner</td>\n",
       "      <td>Poorly</td>\n",
       "      <td>...</td>\n",
       "      <td>NaN</td>\n",
       "      <td>NaN</td>\n",
       "      <td>NaN</td>\n",
       "      <td>NaN</td>\n",
       "      <td>NaN</td>\n",
       "      <td>NaN</td>\n",
       "      <td>NaN</td>\n",
       "      <td>NaN</td>\n",
       "      <td>NaN</td>\n",
       "      <td>NaN</td>\n",
       "    </tr>\n",
       "    <tr>\n",
       "      <th>4</th>\n",
       "      <td>Male</td>\n",
       "      <td>Taiwan</td>\n",
       "      <td>38.0</td>\n",
       "      <td>Employed full-time</td>\n",
       "      <td>NaN</td>\n",
       "      <td>NaN</td>\n",
       "      <td>Yes</td>\n",
       "      <td>NaN</td>\n",
       "      <td>Computer Scientist</td>\n",
       "      <td>Fine</td>\n",
       "      <td>...</td>\n",
       "      <td>NaN</td>\n",
       "      <td>NaN</td>\n",
       "      <td>NaN</td>\n",
       "      <td>NaN</td>\n",
       "      <td>NaN</td>\n",
       "      <td>NaN</td>\n",
       "      <td>NaN</td>\n",
       "      <td>NaN</td>\n",
       "      <td>NaN</td>\n",
       "      <td>NaN</td>\n",
       "    </tr>\n",
       "    <tr>\n",
       "      <th>5</th>\n",
       "      <td>Male</td>\n",
       "      <td>Brazil</td>\n",
       "      <td>46.0</td>\n",
       "      <td>Employed full-time</td>\n",
       "      <td>NaN</td>\n",
       "      <td>NaN</td>\n",
       "      <td>Yes</td>\n",
       "      <td>NaN</td>\n",
       "      <td>Data Scientist</td>\n",
       "      <td>Fine</td>\n",
       "      <td>...</td>\n",
       "      <td>NaN</td>\n",
       "      <td>NaN</td>\n",
       "      <td>NaN</td>\n",
       "      <td>NaN</td>\n",
       "      <td>NaN</td>\n",
       "      <td>NaN</td>\n",
       "      <td>NaN</td>\n",
       "      <td>NaN</td>\n",
       "      <td>NaN</td>\n",
       "      <td>NaN</td>\n",
       "    </tr>\n",
       "    <tr>\n",
       "      <th>6</th>\n",
       "      <td>Male</td>\n",
       "      <td>United States</td>\n",
       "      <td>35.0</td>\n",
       "      <td>Employed full-time</td>\n",
       "      <td>NaN</td>\n",
       "      <td>NaN</td>\n",
       "      <td>Yes</td>\n",
       "      <td>NaN</td>\n",
       "      <td>Computer Scientist</td>\n",
       "      <td>Fine</td>\n",
       "      <td>...</td>\n",
       "      <td>NaN</td>\n",
       "      <td>NaN</td>\n",
       "      <td>NaN</td>\n",
       "      <td>NaN</td>\n",
       "      <td>NaN</td>\n",
       "      <td>NaN</td>\n",
       "      <td>NaN</td>\n",
       "      <td>NaN</td>\n",
       "      <td>NaN</td>\n",
       "      <td>NaN</td>\n",
       "    </tr>\n",
       "    <tr>\n",
       "      <th>8</th>\n",
       "      <td>Female</td>\n",
       "      <td>Australia</td>\n",
       "      <td>43.0</td>\n",
       "      <td>Employed full-time</td>\n",
       "      <td>NaN</td>\n",
       "      <td>NaN</td>\n",
       "      <td>Yes</td>\n",
       "      <td>NaN</td>\n",
       "      <td>Business Analyst</td>\n",
       "      <td>Fine</td>\n",
       "      <td>...</td>\n",
       "      <td>NaN</td>\n",
       "      <td>NaN</td>\n",
       "      <td>NaN</td>\n",
       "      <td>NaN</td>\n",
       "      <td>NaN</td>\n",
       "      <td>NaN</td>\n",
       "      <td>NaN</td>\n",
       "      <td>NaN</td>\n",
       "      <td>NaN</td>\n",
       "      <td>NaN</td>\n",
       "    </tr>\n",
       "    <tr>\n",
       "      <th>...</th>\n",
       "      <td>...</td>\n",
       "      <td>...</td>\n",
       "      <td>...</td>\n",
       "      <td>...</td>\n",
       "      <td>...</td>\n",
       "      <td>...</td>\n",
       "      <td>...</td>\n",
       "      <td>...</td>\n",
       "      <td>...</td>\n",
       "      <td>...</td>\n",
       "      <td>...</td>\n",
       "      <td>...</td>\n",
       "      <td>...</td>\n",
       "      <td>...</td>\n",
       "      <td>...</td>\n",
       "      <td>...</td>\n",
       "      <td>...</td>\n",
       "      <td>...</td>\n",
       "      <td>...</td>\n",
       "      <td>...</td>\n",
       "      <td>...</td>\n",
       "    </tr>\n",
       "    <tr>\n",
       "      <th>16550</th>\n",
       "      <td>Male</td>\n",
       "      <td>United States</td>\n",
       "      <td>47.0</td>\n",
       "      <td>Employed part-time</td>\n",
       "      <td>NaN</td>\n",
       "      <td>NaN</td>\n",
       "      <td>No</td>\n",
       "      <td>Yes</td>\n",
       "      <td>Engineer</td>\n",
       "      <td>Poorly</td>\n",
       "      <td>...</td>\n",
       "      <td>NaN</td>\n",
       "      <td>NaN</td>\n",
       "      <td>NaN</td>\n",
       "      <td>NaN</td>\n",
       "      <td>NaN</td>\n",
       "      <td>NaN</td>\n",
       "      <td>NaN</td>\n",
       "      <td>NaN</td>\n",
       "      <td>NaN</td>\n",
       "      <td>NaN</td>\n",
       "    </tr>\n",
       "    <tr>\n",
       "      <th>16577</th>\n",
       "      <td>Male</td>\n",
       "      <td>Norway</td>\n",
       "      <td>32.0</td>\n",
       "      <td>Employed full-time</td>\n",
       "      <td>NaN</td>\n",
       "      <td>NaN</td>\n",
       "      <td>Yes</td>\n",
       "      <td>NaN</td>\n",
       "      <td>Data Analyst</td>\n",
       "      <td>Perfectly</td>\n",
       "      <td>...</td>\n",
       "      <td>NaN</td>\n",
       "      <td>NaN</td>\n",
       "      <td>NaN</td>\n",
       "      <td>NaN</td>\n",
       "      <td>NaN</td>\n",
       "      <td>NaN</td>\n",
       "      <td>NaN</td>\n",
       "      <td>NaN</td>\n",
       "      <td>NaN</td>\n",
       "      <td>NaN</td>\n",
       "    </tr>\n",
       "    <tr>\n",
       "      <th>16664</th>\n",
       "      <td>Male</td>\n",
       "      <td>Spain</td>\n",
       "      <td>22.0</td>\n",
       "      <td>Employed part-time</td>\n",
       "      <td>NaN</td>\n",
       "      <td>NaN</td>\n",
       "      <td>No</td>\n",
       "      <td>Yes</td>\n",
       "      <td>Other</td>\n",
       "      <td>Fine</td>\n",
       "      <td>...</td>\n",
       "      <td>NaN</td>\n",
       "      <td>NaN</td>\n",
       "      <td>NaN</td>\n",
       "      <td>NaN</td>\n",
       "      <td>NaN</td>\n",
       "      <td>NaN</td>\n",
       "      <td>NaN</td>\n",
       "      <td>NaN</td>\n",
       "      <td>NaN</td>\n",
       "      <td>NaN</td>\n",
       "    </tr>\n",
       "    <tr>\n",
       "      <th>16687</th>\n",
       "      <td>Male</td>\n",
       "      <td>Malaysia</td>\n",
       "      <td>55.0</td>\n",
       "      <td>Independent contractor, freelancer, or self-em...</td>\n",
       "      <td>NaN</td>\n",
       "      <td>NaN</td>\n",
       "      <td>Yes</td>\n",
       "      <td>NaN</td>\n",
       "      <td>Business Analyst</td>\n",
       "      <td>NaN</td>\n",
       "      <td>...</td>\n",
       "      <td>NaN</td>\n",
       "      <td>NaN</td>\n",
       "      <td>NaN</td>\n",
       "      <td>NaN</td>\n",
       "      <td>NaN</td>\n",
       "      <td>NaN</td>\n",
       "      <td>NaN</td>\n",
       "      <td>NaN</td>\n",
       "      <td>NaN</td>\n",
       "      <td>NaN</td>\n",
       "    </tr>\n",
       "    <tr>\n",
       "      <th>16712</th>\n",
       "      <td>Male</td>\n",
       "      <td>Indonesia</td>\n",
       "      <td>25.0</td>\n",
       "      <td>Employed full-time</td>\n",
       "      <td>NaN</td>\n",
       "      <td>NaN</td>\n",
       "      <td>Yes</td>\n",
       "      <td>NaN</td>\n",
       "      <td>Programmer</td>\n",
       "      <td>Fine</td>\n",
       "      <td>...</td>\n",
       "      <td>NaN</td>\n",
       "      <td>NaN</td>\n",
       "      <td>NaN</td>\n",
       "      <td>NaN</td>\n",
       "      <td>NaN</td>\n",
       "      <td>NaN</td>\n",
       "      <td>NaN</td>\n",
       "      <td>NaN</td>\n",
       "      <td>NaN</td>\n",
       "      <td>NaN</td>\n",
       "    </tr>\n",
       "  </tbody>\n",
       "</table>\n",
       "<p>7158 rows × 228 columns</p>\n",
       "</div>"
      ],
      "text/plain": [
       "      GenderSelect        Country   Age  \\\n",
       "3             Male  United States  56.0   \n",
       "4             Male         Taiwan  38.0   \n",
       "5             Male         Brazil  46.0   \n",
       "6             Male  United States  35.0   \n",
       "8           Female      Australia  43.0   \n",
       "...            ...            ...   ...   \n",
       "16550         Male  United States  47.0   \n",
       "16577         Male         Norway  32.0   \n",
       "16664         Male          Spain  22.0   \n",
       "16687         Male       Malaysia  55.0   \n",
       "16712         Male      Indonesia  25.0   \n",
       "\n",
       "                                        EmploymentStatus StudentStatus  \\\n",
       "3      Independent contractor, freelancer, or self-em...           NaN   \n",
       "4                                     Employed full-time           NaN   \n",
       "5                                     Employed full-time           NaN   \n",
       "6                                     Employed full-time           NaN   \n",
       "8                                     Employed full-time           NaN   \n",
       "...                                                  ...           ...   \n",
       "16550                                 Employed part-time           NaN   \n",
       "16577                                 Employed full-time           NaN   \n",
       "16664                                 Employed part-time           NaN   \n",
       "16687  Independent contractor, freelancer, or self-em...           NaN   \n",
       "16712                                 Employed full-time           NaN   \n",
       "\n",
       "      LearningDataScience CodeWriter CareerSwitcher  \\\n",
       "3                     NaN        Yes            NaN   \n",
       "4                     NaN        Yes            NaN   \n",
       "5                     NaN        Yes            NaN   \n",
       "6                     NaN        Yes            NaN   \n",
       "8                     NaN        Yes            NaN   \n",
       "...                   ...        ...            ...   \n",
       "16550                 NaN         No            Yes   \n",
       "16577                 NaN        Yes            NaN   \n",
       "16664                 NaN         No            Yes   \n",
       "16687                 NaN        Yes            NaN   \n",
       "16712                 NaN        Yes            NaN   \n",
       "\n",
       "                  CurrentJobTitleSelect   TitleFit  ...  \\\n",
       "3      Operations Research Practitioner     Poorly  ...   \n",
       "4                    Computer Scientist       Fine  ...   \n",
       "5                        Data Scientist       Fine  ...   \n",
       "6                    Computer Scientist       Fine  ...   \n",
       "8                      Business Analyst       Fine  ...   \n",
       "...                                 ...        ...  ...   \n",
       "16550                          Engineer     Poorly  ...   \n",
       "16577                      Data Analyst  Perfectly  ...   \n",
       "16664                             Other       Fine  ...   \n",
       "16687                  Business Analyst        NaN  ...   \n",
       "16712                        Programmer       Fine  ...   \n",
       "\n",
       "      JobFactorExperienceLevel JobFactorDepartment JobFactorTitle  \\\n",
       "3                          NaN                 NaN            NaN   \n",
       "4                          NaN                 NaN            NaN   \n",
       "5                          NaN                 NaN            NaN   \n",
       "6                          NaN                 NaN            NaN   \n",
       "8                          NaN                 NaN            NaN   \n",
       "...                        ...                 ...            ...   \n",
       "16550                      NaN                 NaN            NaN   \n",
       "16577                      NaN                 NaN            NaN   \n",
       "16664                      NaN                 NaN            NaN   \n",
       "16687                      NaN                 NaN            NaN   \n",
       "16712                      NaN                 NaN            NaN   \n",
       "\n",
       "      JobFactorCompanyFunding JobFactorImpact JobFactorRemote  \\\n",
       "3                         NaN             NaN             NaN   \n",
       "4                         NaN             NaN             NaN   \n",
       "5                         NaN             NaN             NaN   \n",
       "6                         NaN             NaN             NaN   \n",
       "8                         NaN             NaN             NaN   \n",
       "...                       ...             ...             ...   \n",
       "16550                     NaN             NaN             NaN   \n",
       "16577                     NaN             NaN             NaN   \n",
       "16664                     NaN             NaN             NaN   \n",
       "16687                     NaN             NaN             NaN   \n",
       "16712                     NaN             NaN             NaN   \n",
       "\n",
       "      JobFactorIndustry JobFactorLeaderReputation JobFactorDiversity  \\\n",
       "3                   NaN                       NaN                NaN   \n",
       "4                   NaN                       NaN                NaN   \n",
       "5                   NaN                       NaN                NaN   \n",
       "6                   NaN                       NaN                NaN   \n",
       "8                   NaN                       NaN                NaN   \n",
       "...                 ...                       ...                ...   \n",
       "16550               NaN                       NaN                NaN   \n",
       "16577               NaN                       NaN                NaN   \n",
       "16664               NaN                       NaN                NaN   \n",
       "16687               NaN                       NaN                NaN   \n",
       "16712               NaN                       NaN                NaN   \n",
       "\n",
       "      JobFactorPublishingOpportunity  \n",
       "3                                NaN  \n",
       "4                                NaN  \n",
       "5                                NaN  \n",
       "6                                NaN  \n",
       "8                                NaN  \n",
       "...                              ...  \n",
       "16550                            NaN  \n",
       "16577                            NaN  \n",
       "16664                            NaN  \n",
       "16687                            NaN  \n",
       "16712                            NaN  \n",
       "\n",
       "[7158 rows x 228 columns]"
      ]
     },
     "execution_count": 32,
     "metadata": {},
     "output_type": "execute_result"
    }
   ],
   "source": [
    "# mcq['CurrentJobTitleSelect'].notnull()\n",
    "data = mcq[(mcq['CurrentJobTitleSelect'].notnull()) & (\n",
    "           (mcq['LanguageRecommendationSelect'] == 'R') |\n",
    "          (mcq['LanguageRecommendationSelect'] == 'Python'))]\n",
    "data           \n",
    "#            (mcq.query('LanguageRecommendationSelect == \"R\" or LanguageRecommendationSelect == \"Python\"'))]\n",
    "#print(data.shape)\n",
    "# print(data.count())\n",
    "# plt.figure(figsize=(8,10))\n",
    "# sns.countplot(y='CurrentJobTitleSelect',hue='LanguageRecommendationSelect',data=data)"
   ]
  },
  {
   "cell_type": "markdown",
   "metadata": {},
   "source": [
    "Q2.これから注目される部分は？"
   ]
  },
  {
   "cell_type": "code",
   "execution_count": 33,
   "metadata": {},
   "outputs": [
    {
     "data": {
      "text/html": [
       "<div>\n",
       "<style scoped>\n",
       "    .dataframe tbody tr th:only-of-type {\n",
       "        vertical-align: middle;\n",
       "    }\n",
       "\n",
       "    .dataframe tbody tr th {\n",
       "        vertical-align: top;\n",
       "    }\n",
       "\n",
       "    .dataframe thead th {\n",
       "        text-align: right;\n",
       "    }\n",
       "</style>\n",
       "<table border=\"1\" class=\"dataframe\">\n",
       "  <thead>\n",
       "    <tr style=\"text-align: right;\">\n",
       "      <th></th>\n",
       "      <th>応答数</th>\n",
       "      <th>比率</th>\n",
       "    </tr>\n",
       "  </thead>\n",
       "  <tbody>\n",
       "    <tr>\n",
       "      <th>TensorFlow</th>\n",
       "      <td>2621</td>\n",
       "      <td>0.238316</td>\n",
       "    </tr>\n",
       "    <tr>\n",
       "      <th>Python</th>\n",
       "      <td>1713</td>\n",
       "      <td>0.155756</td>\n",
       "    </tr>\n",
       "    <tr>\n",
       "      <th>R</th>\n",
       "      <td>910</td>\n",
       "      <td>0.082742</td>\n",
       "    </tr>\n",
       "    <tr>\n",
       "      <th>Spark / MLlib</th>\n",
       "      <td>755</td>\n",
       "      <td>0.068649</td>\n",
       "    </tr>\n",
       "    <tr>\n",
       "      <th>Hadoop/Hive/Pig</th>\n",
       "      <td>417</td>\n",
       "      <td>0.037916</td>\n",
       "    </tr>\n",
       "    <tr>\n",
       "      <th>Other</th>\n",
       "      <td>407</td>\n",
       "      <td>0.037007</td>\n",
       "    </tr>\n",
       "    <tr>\n",
       "      <th>Amazon Machine Learning</th>\n",
       "      <td>392</td>\n",
       "      <td>0.035643</td>\n",
       "    </tr>\n",
       "    <tr>\n",
       "      <th>Jupyter notebooks</th>\n",
       "      <td>358</td>\n",
       "      <td>0.032551</td>\n",
       "    </tr>\n",
       "    <tr>\n",
       "      <th>I don't plan on learning a new tool/technology</th>\n",
       "      <td>341</td>\n",
       "      <td>0.031006</td>\n",
       "    </tr>\n",
       "    <tr>\n",
       "      <th>Google Cloud Compute</th>\n",
       "      <td>296</td>\n",
       "      <td>0.026914</td>\n",
       "    </tr>\n",
       "    <tr>\n",
       "      <th>Amazon Web services</th>\n",
       "      <td>273</td>\n",
       "      <td>0.024823</td>\n",
       "    </tr>\n",
       "    <tr>\n",
       "      <th>Julia</th>\n",
       "      <td>222</td>\n",
       "      <td>0.020185</td>\n",
       "    </tr>\n",
       "    <tr>\n",
       "      <th>Microsoft Azure Machine Learning</th>\n",
       "      <td>220</td>\n",
       "      <td>0.020004</td>\n",
       "    </tr>\n",
       "    <tr>\n",
       "      <th>DataRobot</th>\n",
       "      <td>220</td>\n",
       "      <td>0.020004</td>\n",
       "    </tr>\n",
       "    <tr>\n",
       "      <th>IBM Watson / Waton Analytics</th>\n",
       "      <td>194</td>\n",
       "      <td>0.017640</td>\n",
       "    </tr>\n",
       "    <tr>\n",
       "      <th>C/C++</th>\n",
       "      <td>186</td>\n",
       "      <td>0.016912</td>\n",
       "    </tr>\n",
       "    <tr>\n",
       "      <th>Tableau</th>\n",
       "      <td>150</td>\n",
       "      <td>0.013639</td>\n",
       "    </tr>\n",
       "    <tr>\n",
       "      <th>SQL</th>\n",
       "      <td>138</td>\n",
       "      <td>0.012548</td>\n",
       "    </tr>\n",
       "    <tr>\n",
       "      <th>Java</th>\n",
       "      <td>116</td>\n",
       "      <td>0.010547</td>\n",
       "    </tr>\n",
       "    <tr>\n",
       "      <th>MATLAB/Octave</th>\n",
       "      <td>115</td>\n",
       "      <td>0.010456</td>\n",
       "    </tr>\n",
       "  </tbody>\n",
       "</table>\n",
       "</div>"
      ],
      "text/plain": [
       "                                                 応答数        比率\n",
       "TensorFlow                                      2621  0.238316\n",
       "Python                                          1713  0.155756\n",
       "R                                                910  0.082742\n",
       "Spark / MLlib                                    755  0.068649\n",
       "Hadoop/Hive/Pig                                  417  0.037916\n",
       "Other                                            407  0.037007\n",
       "Amazon Machine Learning                          392  0.035643\n",
       "Jupyter notebooks                                358  0.032551\n",
       "I don't plan on learning a new tool/technology   341  0.031006\n",
       "Google Cloud Compute                             296  0.026914\n",
       "Amazon Web services                              273  0.024823\n",
       "Julia                                            222  0.020185\n",
       "Microsoft Azure Machine Learning                 220  0.020004\n",
       "DataRobot                                        220  0.020004\n",
       "IBM Watson / Waton Analytics                     194  0.017640\n",
       "C/C++                                            186  0.016912\n",
       "Tableau                                          150  0.013639\n",
       "SQL                                              138  0.012548\n",
       "Java                                             116  0.010547\n",
       "MATLAB/Octave                                    115  0.010456"
      ]
     },
     "execution_count": 33,
     "metadata": {},
     "output_type": "execute_result"
    }
   ],
   "source": [
    "mca_ml_tool_count = pd.DataFrame(\n",
    "    mcq['MLToolNextYearSelect'].value_counts())\n",
    "mca_ml_tool_percent = pd.DataFrame(\n",
    "    mcq['MLToolNextYearSelect'].value_counts(normalize=True))\n",
    "mca_ml_tool_df = pd.concat([mca_ml_tool_count,mca_ml_tool_percent],axis=1).head(20)\n",
    "# mca_ml_tool_df\n",
    "mca_ml_tool_df.columns = ['応答数','比率']\n",
    "mca_ml_tool_df"
   ]
  },
  {
   "cell_type": "code",
   "execution_count": 34,
   "metadata": {},
   "outputs": [
    {
     "data": {
      "text/plain": [
       "<AxesSubplot:xlabel='MLToolNextYearSelect'>"
      ]
     },
     "execution_count": 34,
     "metadata": {},
     "output_type": "execute_result"
    },
    {
     "data": {
      "image/png": "[encoded data removed]",
      "text/plain": [
       "<Figure size 432x288 with 1 Axes>"
      ]
     },
     "metadata": {
      "needs_background": "light"
     },
     "output_type": "display_data"
    }
   ],
   "source": [
    "data = mcq['MLToolNextYearSelect'].value_counts().head(20)\n",
    "data.unique\n",
    "\n",
    "\n",
    "\n",
    "sns.barplot(y=data.index,x=data)\n",
    "# sns.countplot(y='MLToolNextYearSelect', x=data)"
   ]
  },
  {
   "cell_type": "markdown",
   "metadata": {},
   "source": [
    "DATA Science Methods"
   ]
  },
  {
   "cell_type": "code",
   "execution_count": 35,
   "metadata": {},
   "outputs": [
    {
     "data": {
      "text/plain": [
       "<AxesSubplot:xlabel='MLMethodNextYearSelect'>"
      ]
     },
     "execution_count": 35,
     "metadata": {},
     "output_type": "execute_result"
    },
    {
     "data": {
      "image/png": "[encoded data removed]",
      "text/plain": [
       "<Figure size 432x288 with 1 Axes>"
      ]
     },
     "metadata": {
      "needs_background": "light"
     },
     "output_type": "display_data"
    }
   ],
   "source": [
    "data = mcq['MLMethodNextYearSelect'].value_counts().head(15)\n",
    "sns.barplot(y=data.index, x=data)\n",
    "# sns.countplot(y='MLMethodNextYearSelect', data=mcq)"
   ]
  },
  {
   "cell_type": "markdown",
   "metadata": {},
   "source": [
    "Q3.どこでデータサイエンスを学べればいいか？"
   ]
  },
  {
   "cell_type": "code",
   "execution_count": 36,
   "metadata": {},
   "outputs": [],
   "source": [
    "# data = mcq['LearningPlatformSelect'].astype('str')\n",
    "# s = mcq.apply(\n",
    "#     lambda x: pd.Series(x['LearningPlatformSelect']),axis=1).stack().reset_index(level=1,drop=True)\n",
    "# # data=mcq['LearningPlatformSelect'].astype('str')\n",
    "# s.name = 'platform'\n",
    "\n",
    "\n",
    "\n"
   ]
  },
  {
   "cell_type": "code",
   "execution_count": 37,
   "metadata": {},
   "outputs": [
    {
     "name": "stdout",
     "output_type": "stream",
     "text": [
      "(7, 3)\n"
     ]
    },
    {
     "data": {
      "text/html": [
       "<div>\n",
       "<style scoped>\n",
       "    .dataframe tbody tr th:only-of-type {\n",
       "        vertical-align: middle;\n",
       "    }\n",
       "\n",
       "    .dataframe tbody tr th {\n",
       "        vertical-align: top;\n",
       "    }\n",
       "\n",
       "    .dataframe thead th {\n",
       "        text-align: right;\n",
       "    }\n",
       "</style>\n",
       "<table border=\"1\" class=\"dataframe\">\n",
       "  <thead>\n",
       "    <tr style=\"text-align: right;\">\n",
       "      <th></th>\n",
       "      <th>Column</th>\n",
       "      <th>Question</th>\n",
       "      <th>Asked</th>\n",
       "    </tr>\n",
       "  </thead>\n",
       "  <tbody>\n",
       "    <tr>\n",
       "      <th>91</th>\n",
       "      <td>LearningCategorySelftTaught</td>\n",
       "      <td>What percentage of your current machine learni...</td>\n",
       "      <td>All</td>\n",
       "    </tr>\n",
       "    <tr>\n",
       "      <th>92</th>\n",
       "      <td>LearningCategoryOnlineCourses</td>\n",
       "      <td>What percentage of your current machine learni...</td>\n",
       "      <td>All</td>\n",
       "    </tr>\n",
       "    <tr>\n",
       "      <th>93</th>\n",
       "      <td>LearningCategoryWork</td>\n",
       "      <td>What percentage of your current machine learni...</td>\n",
       "      <td>All</td>\n",
       "    </tr>\n",
       "    <tr>\n",
       "      <th>94</th>\n",
       "      <td>LearningCategoryUniversity</td>\n",
       "      <td>What percentage of your current machine learni...</td>\n",
       "      <td>All</td>\n",
       "    </tr>\n",
       "    <tr>\n",
       "      <th>95</th>\n",
       "      <td>LearningCategoryKaggle</td>\n",
       "      <td>What percentage of your current machine learni...</td>\n",
       "      <td>All</td>\n",
       "    </tr>\n",
       "    <tr>\n",
       "      <th>96</th>\n",
       "      <td>LearningCategoryOther</td>\n",
       "      <td>What percentage of your current machine learni...</td>\n",
       "      <td>All</td>\n",
       "    </tr>\n",
       "    <tr>\n",
       "      <th>97</th>\n",
       "      <td>LearningCategoryOtherFreeForm</td>\n",
       "      <td>What percentage of your current machine learni...</td>\n",
       "      <td>All</td>\n",
       "    </tr>\n",
       "  </tbody>\n",
       "</table>\n",
       "</div>"
      ],
      "text/plain": [
       "                           Column  \\\n",
       "91    LearningCategorySelftTaught   \n",
       "92  LearningCategoryOnlineCourses   \n",
       "93           LearningCategoryWork   \n",
       "94     LearningCategoryUniversity   \n",
       "95         LearningCategoryKaggle   \n",
       "96          LearningCategoryOther   \n",
       "97  LearningCategoryOtherFreeForm   \n",
       "\n",
       "                                             Question Asked  \n",
       "91  What percentage of your current machine learni...   All  \n",
       "92  What percentage of your current machine learni...   All  \n",
       "93  What percentage of your current machine learni...   All  \n",
       "94  What percentage of your current machine learni...   All  \n",
       "95  What percentage of your current machine learni...   All  \n",
       "96  What percentage of your current machine learni...   All  \n",
       "97  What percentage of your current machine learni...   All  "
      ]
     },
     "execution_count": 37,
     "metadata": {},
     "output_type": "execute_result"
    }
   ],
   "source": [
    "#Serveyと誰に聞いたか\n",
    "qc = question.loc[question['Column'].str.contains('LearningCategory')]\n",
    "# qc = question\n",
    "print(qc.shape)\n",
    "qc"
   ]
  },
  {
   "cell_type": "code",
   "execution_count": 38,
   "metadata": {},
   "outputs": [
    {
     "data": {
      "text/plain": [
       "['LearningPlatformUsefulnessArxiv',\n",
       " 'LearningPlatformUsefulnessBlogs',\n",
       " 'LearningPlatformUsefulnessCollege',\n",
       " 'LearningPlatformUsefulnessCompany',\n",
       " 'LearningPlatformUsefulnessConferences',\n",
       " 'LearningPlatformUsefulnessFriends',\n",
       " 'LearningPlatformUsefulnessKaggle',\n",
       " 'LearningPlatformUsefulnessNewsletters',\n",
       " 'LearningPlatformUsefulnessCommunities',\n",
       " 'LearningPlatformUsefulnessDocumentation',\n",
       " 'LearningPlatformUsefulnessCourses',\n",
       " 'LearningPlatformUsefulnessProjects',\n",
       " 'LearningPlatformUsefulnessPodcasts',\n",
       " 'LearningPlatformUsefulnessSO',\n",
       " 'LearningPlatformUsefulnessTextbook',\n",
       " 'LearningPlatformUsefulnessTradeBook',\n",
       " 'LearningPlatformUsefulnessTutoring',\n",
       " 'LearningPlatformUsefulnessYouTube']"
      ]
     },
     "execution_count": 38,
     "metadata": {},
     "output_type": "execute_result"
    }
   ],
   "source": [
    "use_features = [x for x in mcq.columns if x.find('LearningPlatformUsefulness') == 0]\n",
    "use_features\n",
    "# a = [x for x in mcq.columns if x.find('LearningPlatformUsefulness') != 0]\n",
    "# a"
   ]
  },
  {
   "cell_type": "code",
   "execution_count": 39,
   "metadata": {},
   "outputs": [
    {
     "data": {
      "text/plain": [
       "<AxesSubplot:>"
      ]
     },
     "execution_count": 39,
     "metadata": {},
     "output_type": "execute_result"
    },
    {
     "data": {
      "image/png": "[encoded data removed]",
      "text/plain": [
       "<Figure size 720x720 with 2 Axes>"
      ]
     },
     "metadata": {
      "needs_background": "light"
     },
     "output_type": "display_data"
    }
   ],
   "source": [
    "fdf = {}\n",
    "for feature in use_features:\n",
    "    a = mcq[feature].value_counts()\n",
    "    a = a/a.sum()\n",
    "    fdf[feature[len('LearningPlatformUsefulness'):]] = a\n",
    "    \n",
    "fdf = pd.DataFrame(fdf).transpose().sort_values(\n",
    "        'Very useful', ascending=False)\n",
    "    \n",
    "plt.figure(figsize=(10,10))\n",
    "sns.heatmap(\n",
    "    fdf.sort_values(\n",
    "    \"Very useful\", ascending=False), annot=True)"
   ]
  },
  {
   "cell_type": "code",
   "execution_count": 40,
   "metadata": {},
   "outputs": [
    {
     "data": {
      "text/plain": [
       "<AxesSubplot:title={'center':'Usefullness of Learning Platform'}>"
      ]
     },
     "execution_count": 40,
     "metadata": {},
     "output_type": "execute_result"
    },
    {
     "data": {
      "image/png": "[encoded data removed]",
      "text/plain": [
       "<Figure size 1440x576 with 1 Axes>"
      ]
     },
     "metadata": {
      "needs_background": "light"
     },
     "output_type": "display_data"
    }
   ],
   "source": [
    "fdf.plot(kind= 'bar',figsize=(20,8),title=\"Usefullness of Learning Platform\")"
   ]
  },
  {
   "cell_type": "code",
   "execution_count": 41,
   "metadata": {},
   "outputs": [
    {
     "data": {
      "text/plain": [
       "['LearningCategorySelftTaught',\n",
       " 'LearningCategoryOnlineCourses',\n",
       " 'LearningCategoryWork',\n",
       " 'LearningCategoryUniversity',\n",
       " 'LearningCategoryKaggle',\n",
       " 'LearningCategoryOther']"
      ]
     },
     "execution_count": 41,
     "metadata": {},
     "output_type": "execute_result"
    }
   ],
   "source": [
    "cat_features = [x for x in mcq.columns if x.find('LearningCategory') != -1]\n",
    "cat_features"
   ]
  },
  {
   "cell_type": "code",
   "execution_count": 42,
   "metadata": {},
   "outputs": [
    {
     "data": {
      "text/plain": [
       "SelftTaught      33.366771\n",
       "OnlineCourses    27.375514\n",
       "Work             15.217593\n",
       "University       16.988607\n",
       "Kaggle            5.531434\n",
       "Other             1.795940\n",
       "dtype: float64"
      ]
     },
     "execution_count": 42,
     "metadata": {},
     "output_type": "execute_result"
    }
   ],
   "source": [
    "cdf = {}\n",
    "for feature in cat_features:\n",
    "    cdf[feature[len('LearningCategory'):]] = mcq[feature].mean()\n",
    "    \n",
    "#PIchart\n",
    "cdf = pd.Series(cdf)\n",
    "cdf"
   ]
  },
  {
   "cell_type": "code",
   "execution_count": 43,
   "metadata": {},
   "outputs": [
    {
     "data": {
      "image/png": "[encoded data removed]",
      "text/plain": [
       "<Figure size 432x288 with 1 Axes>"
      ]
     },
     "metadata": {},
     "output_type": "display_data"
    }
   ],
   "source": [
    "plt.pie(cdf,labels=cdf.index, autopct='%1.1f%%',shadow=True,startangle=90\n",
    "       ,counterclock=False)\n",
    "plt.axis('equal')\n",
    "plt.title('Contribution of each platform to learning')\n",
    "plt.show()"
   ]
  },
  {
   "cell_type": "code",
   "execution_count": 44,
   "metadata": {},
   "outputs": [
    {
     "data": {
      "text/html": [
       "<div>\n",
       "<style scoped>\n",
       "    .dataframe tbody tr th:only-of-type {\n",
       "        vertical-align: middle;\n",
       "    }\n",
       "\n",
       "    .dataframe tbody tr th {\n",
       "        vertical-align: top;\n",
       "    }\n",
       "\n",
       "    .dataframe thead th {\n",
       "        text-align: right;\n",
       "    }\n",
       "</style>\n",
       "<table border=\"1\" class=\"dataframe\">\n",
       "  <thead>\n",
       "    <tr style=\"text-align: right;\">\n",
       "      <th></th>\n",
       "      <th>Column</th>\n",
       "      <th>Question</th>\n",
       "      <th>Asked</th>\n",
       "    </tr>\n",
       "  </thead>\n",
       "  <tbody>\n",
       "    <tr>\n",
       "      <th>74</th>\n",
       "      <td>HardwarePersonalProjectsSelect</td>\n",
       "      <td>Which computing hardware do you use for your p...</td>\n",
       "      <td>Learners</td>\n",
       "    </tr>\n",
       "  </tbody>\n",
       "</table>\n",
       "</div>"
      ],
      "text/plain": [
       "                            Column  \\\n",
       "74  HardwarePersonalProjectsSelect   \n",
       "\n",
       "                                             Question     Asked  \n",
       "74  Which computing hardware do you use for your p...  Learners  "
      ]
     },
     "execution_count": 44,
     "metadata": {},
     "output_type": "execute_result"
    }
   ],
   "source": [
    "qc = question.loc[question['Column']\n",
    "                  .str.contains('HardwarePersonalProjectsSelect')]\n",
    "qc.shape\n",
    "qc"
   ]
  },
  {
   "cell_type": "code",
   "execution_count": 45,
   "metadata": {},
   "outputs": [
    {
     "data": {
      "text/plain": [
       "(4206,)"
      ]
     },
     "execution_count": 45,
     "metadata": {},
     "output_type": "execute_result"
    }
   ],
   "source": [
    "mcq[mcq['HardwarePersonalProjectsSelect'].notnull()]['HardwarePersonalProjectsSelect'].shape"
   ]
  },
  {
   "cell_type": "code",
   "execution_count": 46,
   "metadata": {},
   "outputs": [],
   "source": [
    "mcq['HardwarePersonalProjectsSelect'\n",
    "   ] = mcq['HardwarePersonalProjectsSelect'\n",
    "          ].astype('str').apply(lambda x : x.split(','))\n",
    "s = mcq.apply(lambda x:\n",
    "             pd.Series(x['HardwarePersonalProjectsSelect']),\n",
    "             axis=1).stack().reset_index(level=1, drop=True)\n",
    "\n",
    "s.name='hardware'"
   ]
  },
  {
   "cell_type": "code",
   "execution_count": 47,
   "metadata": {},
   "outputs": [],
   "source": [
    "s = s[s !='nan']"
   ]
  },
  {
   "cell_type": "code",
   "execution_count": null,
   "metadata": {},
   "outputs": [],
   "source": []
  },
  {
   "cell_type": "code",
   "execution_count": 48,
   "metadata": {},
   "outputs": [
    {
     "data": {
      "text/html": [
       "<div>\n",
       "<style scoped>\n",
       "    .dataframe tbody tr th:only-of-type {\n",
       "        vertical-align: middle;\n",
       "    }\n",
       "\n",
       "    .dataframe tbody tr th {\n",
       "        vertical-align: top;\n",
       "    }\n",
       "\n",
       "    .dataframe thead th {\n",
       "        text-align: right;\n",
       "    }\n",
       "</style>\n",
       "<table border=\"1\" class=\"dataframe\">\n",
       "  <thead>\n",
       "    <tr style=\"text-align: right;\">\n",
       "      <th></th>\n",
       "      <th>hardware</th>\n",
       "    </tr>\n",
       "  </thead>\n",
       "  <tbody>\n",
       "    <tr>\n",
       "      <th>Basic laptop (Macbook)</th>\n",
       "      <td>2246</td>\n",
       "    </tr>\n",
       "    <tr>\n",
       "      <th>GCE ...)</th>\n",
       "      <td>669</td>\n",
       "    </tr>\n",
       "    <tr>\n",
       "      <th>Azure</th>\n",
       "      <td>669</td>\n",
       "    </tr>\n",
       "    <tr>\n",
       "      <th>Laptop + Cloud service (AWS</th>\n",
       "      <td>669</td>\n",
       "    </tr>\n",
       "    <tr>\n",
       "      <th>Gaming Laptop (Laptop + CUDA capable GPU)</th>\n",
       "      <td>641</td>\n",
       "    </tr>\n",
       "    <tr>\n",
       "      <th>Traditional Workstation</th>\n",
       "      <td>527</td>\n",
       "    </tr>\n",
       "    <tr>\n",
       "      <th>Laptop or Workstation and local IT supported servers</th>\n",
       "      <td>445</td>\n",
       "    </tr>\n",
       "    <tr>\n",
       "      <th>GPU accelerated Workstation</th>\n",
       "      <td>416</td>\n",
       "    </tr>\n",
       "    <tr>\n",
       "      <th>Workstation + Cloud service</th>\n",
       "      <td>174</td>\n",
       "    </tr>\n",
       "    <tr>\n",
       "      <th>Other</th>\n",
       "      <td>147</td>\n",
       "    </tr>\n",
       "  </tbody>\n",
       "</table>\n",
       "</div>"
      ],
      "text/plain": [
       "                                                    hardware\n",
       "Basic laptop (Macbook)                                  2246\n",
       " GCE ...)                                                669\n",
       " Azure                                                   669\n",
       "Laptop + Cloud service (AWS                              669\n",
       "Gaming Laptop (Laptop + CUDA capable GPU)                641\n",
       "Traditional Workstation                                  527\n",
       "Laptop or Workstation and local IT supported se...       445\n",
       "GPU accelerated Workstation                              416\n",
       "Workstation + Cloud service                              174\n",
       "Other                                                    147"
      ]
     },
     "execution_count": 48,
     "metadata": {},
     "output_type": "execute_result"
    }
   ],
   "source": [
    "pd.DataFrame(s.value_counts())"
   ]
  },
  {
   "cell_type": "markdown",
   "metadata": {},
   "source": [
    "Q5.どのくらいの時間勉強するか"
   ]
  },
  {
   "cell_type": "code",
   "execution_count": 49,
   "metadata": {},
   "outputs": [
    {
     "data": {
      "text/plain": [
       "<matplotlib.legend.Legend at 0x2a8d0404b20>"
      ]
     },
     "execution_count": 49,
     "metadata": {},
     "output_type": "execute_result"
    },
    {
     "data": {
      "image/png": "[encoded data removed]",
      "text/plain": [
       "<Figure size 432x576 with 1 Axes>"
      ]
     },
     "metadata": {
      "needs_background": "light"
     },
     "output_type": "display_data"
    }
   ],
   "source": [
    "plt.figure(figsize=(6,8))\n",
    "sns.countplot(y='TimeSpentStudying', data=mcq, hue= 'EmploymentStatus'\n",
    "             ).legend(loc='center left',bbox_to_anchor=(1,0.5))"
   ]
  },
  {
   "cell_type": "code",
   "execution_count": 50,
   "metadata": {},
   "outputs": [
    {
     "data": {
      "text/plain": [
       "<matplotlib.legend.Legend at 0x2a8d054ddf0>"
      ]
     },
     "execution_count": 50,
     "metadata": {},
     "output_type": "execute_result"
    },
    {
     "data": {
      "image/png": "[encoded data removed]",
      "text/plain": [
       "<Figure size 864x360 with 2 Axes>"
      ]
     },
     "metadata": {
      "needs_background": "light"
     },
     "output_type": "display_data"
    }
   ],
   "source": [
    "full_time = mcq[(mcq['TimeSpentStudying']).notnull() & \n",
    "                (mcq['EmploymentStatus'] == 'Employed full-time')]\n",
    " \n",
    "looking_for_job = mcq[(mcq['TimeSpentStudying']).notnull() &\n",
    "             (mcq['EmploymentStatus'].str.contains('but looking for work'))]\n",
    "\n",
    "figure, (ax1, ax2) = plt.subplots(ncols=2)\n",
    "\n",
    "figure.set_size_inches(12,5)\n",
    "sns.countplot(x='TimeSpentStudying',\n",
    "             data=full_time,\n",
    "             hue='EmploymentStatus', ax=ax1\n",
    "             ).legend(loc='center right',bbox_to_anchor=(1,0.5))\n",
    "\n",
    "sns.countplot(x='TimeSpentStudying',\n",
    "             data=looking_for_job,\n",
    "             hue='EmploymentStatus', ax=ax2\n",
    "             ).legend(loc='center right',bbox_to_anchor=(1,0.5))\n"
   ]
  },
  {
   "cell_type": "markdown",
   "metadata": {},
   "source": [
    "Q6.ブログ、授業、など推薦することがありますか？"
   ]
  },
  {
   "cell_type": "code",
   "execution_count": 51,
   "metadata": {},
   "outputs": [
    {
     "data": {
      "text/plain": [
       "0    [Becoming a Data Scientist Podcast, Data Machi...\n",
       "1    [Becoming a Data Scientist Podcast, Siraj Rava...\n",
       "2    [FastML Blog, No Free Hunch Blog, Talking Mach...\n",
       "3                                     [KDnuggets Blog]\n",
       "4    [Data Machina Newsletter, Jack's Import AI New...\n",
       "Name: BlogsPodcastsNewslettersSelect, dtype: object"
      ]
     },
     "execution_count": 51,
     "metadata": {},
     "output_type": "execute_result"
    }
   ],
   "source": [
    "mcq['BlogsPodcastsNewslettersSelect'] = mcq[\n",
    "    'BlogsPodcastsNewslettersSelect'].astype('str').apply(lambda x: x.split(','))\n",
    "mcq['BlogsPodcastsNewslettersSelect'].head()"
   ]
  },
  {
   "cell_type": "code",
   "execution_count": 52,
   "metadata": {},
   "outputs": [
    {
     "data": {
      "text/plain": [
       "0    Becoming a Data Scientist Podcast\n",
       "0              Data Machina Newsletter\n",
       "0             O'Reilly Data Newsletter\n",
       "0         Partially Derivative Podcast\n",
       "0           R Bloggers Blog Aggregator\n",
       "Name: platforms, dtype: object"
      ]
     },
     "execution_count": 52,
     "metadata": {},
     "output_type": "execute_result"
    }
   ],
   "source": [
    "s = mcq.apply(lambda x: pd.Series(x['BlogsPodcastsNewslettersSelect']),\n",
    "             axis=1).stack().reset_index(level=1,drop=True)\n",
    "s.name = 'platforms'\n",
    "s.head()"
   ]
  },
  {
   "cell_type": "code",
   "execution_count": 53,
   "metadata": {},
   "outputs": [],
   "source": [
    "s = s[s != 'nan'].value_counts()\n"
   ]
  },
  {
   "cell_type": "code",
   "execution_count": 54,
   "metadata": {
    "scrolled": true
   },
   "outputs": [
    {
     "data": {
      "text/plain": [
       "<AxesSubplot:title={'center':'Most Popular Blogs and Podcasts'}, xlabel='platforms'>"
      ]
     },
     "execution_count": 54,
     "metadata": {},
     "output_type": "execute_result"
    },
    {
     "data": {
      "image/png": "[encoded data removed]",
      "text/plain": [
       "<Figure size 432x576 with 1 Axes>"
      ]
     },
     "metadata": {
      "needs_background": "light"
     },
     "output_type": "display_data"
    }
   ],
   "source": [
    "plt.figure(figsize=(6,8))\n",
    "plt.title('Most Popular Blogs and Podcasts')\n",
    "sns.barplot(y=s.index, x=s)\n"
   ]
  },
  {
   "cell_type": "markdown",
   "metadata": {},
   "source": [
    "SirajRaval - youtube"
   ]
  },
  {
   "cell_type": "code",
   "execution_count": 55,
   "metadata": {},
   "outputs": [
    {
     "data": {
      "text/plain": [
       "0              [nan]\n",
       "1              [nan]\n",
       "2    [Coursera, edX]\n",
       "3              [nan]\n",
       "4              [nan]\n",
       "Name: CoursePlatformSelect, dtype: object"
      ]
     },
     "execution_count": 55,
     "metadata": {},
     "output_type": "execute_result"
    }
   ],
   "source": [
    "mcq['CoursePlatformSelect'] = mcq[\n",
    "    'CoursePlatformSelect'].astype('str').apply(lambda x:x.split(','))\n",
    "mcq['CoursePlatformSelect'].head()"
   ]
  },
  {
   "cell_type": "code",
   "execution_count": 56,
   "metadata": {},
   "outputs": [
    {
     "data": {
      "text/plain": [
       "0          nan\n",
       "1          nan\n",
       "2     Coursera\n",
       "2          edX\n",
       "3          nan\n",
       "4          nan\n",
       "5          nan\n",
       "6          nan\n",
       "7     Coursera\n",
       "8          nan\n",
       "9          nan\n",
       "10    Coursera\n",
       "11         nan\n",
       "12    Coursera\n",
       "12    DataCamp\n",
       "12         edX\n",
       "13         nan\n",
       "14         nan\n",
       "15         nan\n",
       "16         nan\n",
       "Name: course, dtype: object"
      ]
     },
     "execution_count": 56,
     "metadata": {},
     "output_type": "execute_result"
    }
   ],
   "source": [
    "t = mcq.apply(lambda x: pd.Series(x['CoursePlatformSelect']),\n",
    "             axis=1).stack().reset_index(level=1,drop=True)\n",
    "t.name='course'\n",
    "t.head(20)"
   ]
  },
  {
   "cell_type": "code",
   "execution_count": 57,
   "metadata": {},
   "outputs": [],
   "source": [
    "t = t[t != 'nan'].value_counts()"
   ]
  },
  {
   "cell_type": "code",
   "execution_count": 58,
   "metadata": {},
   "outputs": [
    {
     "data": {
      "text/plain": [
       "<AxesSubplot:title={'center':'Most Popular Course Platforms'}, xlabel='course'>"
      ]
     },
     "execution_count": 58,
     "metadata": {},
     "output_type": "execute_result"
    },
    {
     "data": {
      "image/png": "[encoded data removed]",
      "text/plain": [
       "<Figure size 432x288 with 1 Axes>"
      ]
     },
     "metadata": {
      "needs_background": "light"
     },
     "output_type": "display_data"
    }
   ],
   "source": [
    "plt.title('Most Popular Course Platforms')\n",
    "sns.barplot(y=t.index, x=t)"
   ]
  },
  {
   "cell_type": "markdown",
   "metadata": {},
   "source": [
    "Q7.データサイエンス職務で一番重要だと思う技術は？"
   ]
  },
  {
   "cell_type": "code",
   "execution_count": 59,
   "metadata": {},
   "outputs": [
    {
     "data": {
      "text/plain": [
       "['JobSkillImportanceBigData',\n",
       " 'JobSkillImportanceDegree',\n",
       " 'JobSkillImportanceStats',\n",
       " 'JobSkillImportanceEnterpriseTools',\n",
       " 'JobSkillImportancePython',\n",
       " 'JobSkillImportanceR',\n",
       " 'JobSkillImportanceSQL',\n",
       " 'JobSkillImportanceKaggleRanking',\n",
       " 'JobSkillImportanceMOOC',\n",
       " 'JobSkillImportanceVisualizations']"
      ]
     },
     "execution_count": 59,
     "metadata": {},
     "output_type": "execute_result"
    }
   ],
   "source": [
    "job_features = [x for x in mcq.columns if x.find(\n",
    "    'JobSkillImportance') == 0\n",
    "               and x.find('JobSkillImportanceOther') == -1]\n",
    "\n",
    "job_features"
   ]
  },
  {
   "cell_type": "code",
   "execution_count": 60,
   "metadata": {},
   "outputs": [
    {
     "data": {
      "text/plain": [
       "{'BigData': Nice to have    0.574065\n",
       " Necessary       0.379929\n",
       " Unnecessary     0.046006\n",
       " Name: JobSkillImportanceBigData, dtype: float64,\n",
       " 'Degree': Nice to have    0.598107\n",
       " Necessary       0.279867\n",
       " Unnecessary     0.122026\n",
       " Name: JobSkillImportanceDegree, dtype: float64,\n",
       " 'Stats': Necessary       0.513889\n",
       " Nice to have    0.457576\n",
       " Unnecessary     0.028535\n",
       " Name: JobSkillImportanceStats, dtype: float64,\n",
       " 'EnterpriseTools': Nice to have    0.564970\n",
       " Unnecessary     0.290200\n",
       " Necessary       0.144829\n",
       " Name: JobSkillImportanceEnterpriseTools, dtype: float64,\n",
       " 'Python': Necessary       0.645994\n",
       " Nice to have    0.327214\n",
       " Unnecessary     0.026792\n",
       " Name: JobSkillImportancePython, dtype: float64,\n",
       " 'R': Nice to have    0.513945\n",
       " Necessary       0.414807\n",
       " Unnecessary     0.071247\n",
       " Name: JobSkillImportanceR, dtype: float64,\n",
       " 'SQL': Nice to have    0.491778\n",
       " Necessary       0.434224\n",
       " Unnecessary     0.073998\n",
       " Name: JobSkillImportanceSQL, dtype: float64,\n",
       " 'KaggleRanking': Nice to have    0.677261\n",
       " Unnecessary     0.203876\n",
       " Necessary       0.118863\n",
       " Name: JobSkillImportanceKaggleRanking, dtype: float64,\n",
       " 'MOOC': Nice to have    0.606994\n",
       " Unnecessary     0.285752\n",
       " Necessary       0.107255\n",
       " Name: JobSkillImportanceMOOC, dtype: float64,\n",
       " 'Visualizations': Nice to have    0.490820\n",
       " Necessary       0.455392\n",
       " Unnecessary     0.053788\n",
       " Name: JobSkillImportanceVisualizations, dtype: float64}"
      ]
     },
     "execution_count": 60,
     "metadata": {},
     "output_type": "execute_result"
    }
   ],
   "source": [
    "jdf = {}\n",
    "for feature in job_features:\n",
    "    a = mcq[feature].value_counts()\n",
    "    a = a/a.sum()\n",
    "    jdf[feature[len('JobSkillImportance'):]] = a\n",
    "jdf"
   ]
  },
  {
   "cell_type": "code",
   "execution_count": 61,
   "metadata": {},
   "outputs": [
    {
     "data": {
      "text/html": [
       "<div>\n",
       "<style scoped>\n",
       "    .dataframe tbody tr th:only-of-type {\n",
       "        vertical-align: middle;\n",
       "    }\n",
       "\n",
       "    .dataframe tbody tr th {\n",
       "        vertical-align: top;\n",
       "    }\n",
       "\n",
       "    .dataframe thead th {\n",
       "        text-align: right;\n",
       "    }\n",
       "</style>\n",
       "<table border=\"1\" class=\"dataframe\">\n",
       "  <thead>\n",
       "    <tr style=\"text-align: right;\">\n",
       "      <th></th>\n",
       "      <th>Necessary</th>\n",
       "      <th>Nice to have</th>\n",
       "      <th>Unnecessary</th>\n",
       "    </tr>\n",
       "  </thead>\n",
       "  <tbody>\n",
       "    <tr>\n",
       "      <th>BigData</th>\n",
       "      <td>0.379929</td>\n",
       "      <td>0.574065</td>\n",
       "      <td>0.046006</td>\n",
       "    </tr>\n",
       "    <tr>\n",
       "      <th>Degree</th>\n",
       "      <td>0.279867</td>\n",
       "      <td>0.598107</td>\n",
       "      <td>0.122026</td>\n",
       "    </tr>\n",
       "    <tr>\n",
       "      <th>Stats</th>\n",
       "      <td>0.513889</td>\n",
       "      <td>0.457576</td>\n",
       "      <td>0.028535</td>\n",
       "    </tr>\n",
       "    <tr>\n",
       "      <th>EnterpriseTools</th>\n",
       "      <td>0.144829</td>\n",
       "      <td>0.564970</td>\n",
       "      <td>0.290200</td>\n",
       "    </tr>\n",
       "    <tr>\n",
       "      <th>Python</th>\n",
       "      <td>0.645994</td>\n",
       "      <td>0.327214</td>\n",
       "      <td>0.026792</td>\n",
       "    </tr>\n",
       "    <tr>\n",
       "      <th>R</th>\n",
       "      <td>0.414807</td>\n",
       "      <td>0.513945</td>\n",
       "      <td>0.071247</td>\n",
       "    </tr>\n",
       "    <tr>\n",
       "      <th>SQL</th>\n",
       "      <td>0.434224</td>\n",
       "      <td>0.491778</td>\n",
       "      <td>0.073998</td>\n",
       "    </tr>\n",
       "    <tr>\n",
       "      <th>KaggleRanking</th>\n",
       "      <td>0.118863</td>\n",
       "      <td>0.677261</td>\n",
       "      <td>0.203876</td>\n",
       "    </tr>\n",
       "    <tr>\n",
       "      <th>MOOC</th>\n",
       "      <td>0.107255</td>\n",
       "      <td>0.606994</td>\n",
       "      <td>0.285752</td>\n",
       "    </tr>\n",
       "    <tr>\n",
       "      <th>Visualizations</th>\n",
       "      <td>0.455392</td>\n",
       "      <td>0.490820</td>\n",
       "      <td>0.053788</td>\n",
       "    </tr>\n",
       "  </tbody>\n",
       "</table>\n",
       "</div>"
      ],
      "text/plain": [
       "                 Necessary  Nice to have  Unnecessary\n",
       "BigData           0.379929      0.574065     0.046006\n",
       "Degree            0.279867      0.598107     0.122026\n",
       "Stats             0.513889      0.457576     0.028535\n",
       "EnterpriseTools   0.144829      0.564970     0.290200\n",
       "Python            0.645994      0.327214     0.026792\n",
       "R                 0.414807      0.513945     0.071247\n",
       "SQL               0.434224      0.491778     0.073998\n",
       "KaggleRanking     0.118863      0.677261     0.203876\n",
       "MOOC              0.107255      0.606994     0.285752\n",
       "Visualizations    0.455392      0.490820     0.053788"
      ]
     },
     "execution_count": 61,
     "metadata": {},
     "output_type": "execute_result"
    }
   ],
   "source": [
    "jdf = pd.DataFrame(jdf).transpose()\n",
    "jdf"
   ]
  },
  {
   "cell_type": "code",
   "execution_count": 62,
   "metadata": {},
   "outputs": [
    {
     "data": {
      "text/plain": [
       "<AxesSubplot:>"
      ]
     },
     "execution_count": 62,
     "metadata": {},
     "output_type": "execute_result"
    },
    {
     "data": {
      "image/png": "[encoded data removed]",
      "text/plain": [
       "<Figure size 720x432 with 2 Axes>"
      ]
     },
     "metadata": {
      "needs_background": "light"
     },
     "output_type": "display_data"
    }
   ],
   "source": [
    "plt.figure(figsize=(10,6))\n",
    "sns.heatmap(jdf.sort_values('Necessary', ascending=False), annot=True)"
   ]
  },
  {
   "cell_type": "code",
   "execution_count": 63,
   "metadata": {},
   "outputs": [
    {
     "data": {
      "text/plain": [
       "<AxesSubplot:title={'center':'Skill Importance in Data Science Jobs'}>"
      ]
     },
     "execution_count": 63,
     "metadata": {},
     "output_type": "execute_result"
    },
    {
     "data": {
      "image/png": "[encoded data removed]",
      "text/plain": [
       "<Figure size 864x432 with 1 Axes>"
      ]
     },
     "metadata": {
      "needs_background": "light"
     },
     "output_type": "display_data"
    }
   ],
   "source": [
    "jdf.plot(kind='bar', figsize=(12,6),\n",
    "        title='Skill Importance in Data Science Jobs')"
   ]
  },
  {
   "cell_type": "markdown",
   "metadata": {},
   "source": [
    "Q8.データサイエンスの年収は？"
   ]
  },
  {
   "cell_type": "code",
   "execution_count": 64,
   "metadata": {},
   "outputs": [
    {
     "data": {
      "text/plain": [
       "(5224, 228)"
      ]
     },
     "execution_count": 64,
     "metadata": {},
     "output_type": "execute_result"
    }
   ],
   "source": [
    "mcq[mcq['CompensationAmount'].notnull()].shape"
   ]
  },
  {
   "cell_type": "code",
   "execution_count": 83,
   "metadata": {},
   "outputs": [
    {
     "data": {
      "text/html": [
       "<div>\n",
       "<style scoped>\n",
       "    .dataframe tbody tr th:only-of-type {\n",
       "        vertical-align: middle;\n",
       "    }\n",
       "\n",
       "    .dataframe tbody tr th {\n",
       "        vertical-align: top;\n",
       "    }\n",
       "\n",
       "    .dataframe thead th {\n",
       "        text-align: right;\n",
       "    }\n",
       "</style>\n",
       "<table border=\"1\" class=\"dataframe\">\n",
       "  <thead>\n",
       "    <tr style=\"text-align: right;\">\n",
       "      <th></th>\n",
       "      <th>CompensationAmount</th>\n",
       "      <th>CompensationCurrency</th>\n",
       "      <th>GenderSelect</th>\n",
       "      <th>Country</th>\n",
       "      <th>CurrentJobTitleSelect</th>\n",
       "      <th>originCountry</th>\n",
       "      <th>exchangeRate</th>\n",
       "      <th>Salary</th>\n",
       "    </tr>\n",
       "  </thead>\n",
       "  <tbody>\n",
       "    <tr>\n",
       "      <th>0</th>\n",
       "      <td>250000</td>\n",
       "      <td>USD</td>\n",
       "      <td>Male</td>\n",
       "      <td>United States</td>\n",
       "      <td>Operations Research Practitioner</td>\n",
       "      <td>USD</td>\n",
       "      <td>1.000000</td>\n",
       "      <td>250000.0</td>\n",
       "    </tr>\n",
       "    <tr>\n",
       "      <th>1</th>\n",
       "      <td>80000</td>\n",
       "      <td>AUD</td>\n",
       "      <td>Female</td>\n",
       "      <td>Australia</td>\n",
       "      <td>Business Analyst</td>\n",
       "      <td>AUD</td>\n",
       "      <td>0.802310</td>\n",
       "      <td>64184.8</td>\n",
       "    </tr>\n",
       "    <tr>\n",
       "      <th>2</th>\n",
       "      <td>1200000</td>\n",
       "      <td>RUB</td>\n",
       "      <td>Male</td>\n",
       "      <td>Russia</td>\n",
       "      <td>Software Developer/Software Engineer</td>\n",
       "      <td>RUB</td>\n",
       "      <td>0.017402</td>\n",
       "      <td>20882.4</td>\n",
       "    </tr>\n",
       "    <tr>\n",
       "      <th>3</th>\n",
       "      <td>95000</td>\n",
       "      <td>INR</td>\n",
       "      <td>Male</td>\n",
       "      <td>India</td>\n",
       "      <td>Data Scientist</td>\n",
       "      <td>INR</td>\n",
       "      <td>0.015620</td>\n",
       "      <td>1483.9</td>\n",
       "    </tr>\n",
       "    <tr>\n",
       "      <th>4</th>\n",
       "      <td>1100000</td>\n",
       "      <td>TWD</td>\n",
       "      <td>Male</td>\n",
       "      <td>Taiwan</td>\n",
       "      <td>Software Developer/Software Engineer</td>\n",
       "      <td>TWD</td>\n",
       "      <td>0.033304</td>\n",
       "      <td>36634.4</td>\n",
       "    </tr>\n",
       "  </tbody>\n",
       "</table>\n",
       "</div>"
      ],
      "text/plain": [
       "  CompensationAmount CompensationCurrency GenderSelect        Country  \\\n",
       "0             250000                  USD         Male  United States   \n",
       "1              80000                  AUD       Female      Australia   \n",
       "2            1200000                  RUB         Male         Russia   \n",
       "3              95000                  INR         Male          India   \n",
       "4            1100000                  TWD         Male         Taiwan   \n",
       "\n",
       "                  CurrentJobTitleSelect originCountry  exchangeRate    Salary  \n",
       "0      Operations Research Practitioner           USD      1.000000  250000.0  \n",
       "1                      Business Analyst           AUD      0.802310   64184.8  \n",
       "2  Software Developer/Software Engineer           RUB      0.017402   20882.4  \n",
       "3                        Data Scientist           INR      0.015620    1483.9  \n",
       "4  Software Developer/Software Engineer           TWD      0.033304   36634.4  "
      ]
     },
     "execution_count": 83,
     "metadata": {},
     "output_type": "execute_result"
    }
   ],
   "source": [
    "mcq['CompensationAmount'] = mcq[\n",
    "    'CompensationAmount'].str.replace(',','')\n",
    "mcq['CompensationAmount'] = mcq[\n",
    "    'CompensationAmount'].str.replace('-','')\n",
    "\n",
    "rates = pd.read_csv('C:/Users/Owner/pydataenv/data/archive/conversionRates.csv')\n",
    "rates.drop('Unnamed: 0', axis=1, inplace=True)\n",
    "\n",
    "salary = mcq[['CompensationAmount','CompensationCurrency',\n",
    "             'GenderSelect',\n",
    "             'Country',\n",
    "             'CurrentJobTitleSelect']].dropna()\n",
    "# salary = pd.concat([rates,salary], axis=1)\n",
    "salary = salary.merge(rates,left_on='CompensationCurrency',\n",
    "                     right_on='originCountry', how='left')\n",
    "salary['Salary'] = pd.to_numeric(\n",
    "    salary['CompensationAmount']) * salary['exchangeRate']\n",
    "salary.head()"
   ]
  },
  {
   "cell_type": "code",
   "execution_count": 71,
   "metadata": {},
   "outputs": [
    {
     "name": "stdout",
     "output_type": "stream",
     "text": [
      "Maximun Salary is USD $ 208999999\n",
      "Minimun Salary is USD $ -2147483648\n",
      "Median Salary is USD $ 53812.0\n"
     ]
    }
   ],
   "source": [
    "print('Maximun Salary is USD $', salary['Salary'].dropna().astype(int).max())\n",
    "print('Minimun Salary is USD $', salary['Salary'].dropna().astype(int).min())\n",
    "print('Median Salary is USD $', salary['Salary'].dropna().astype(int).median())"
   ]
  },
  {
   "cell_type": "code",
   "execution_count": 98,
   "metadata": {},
   "outputs": [
    {
     "data": {
      "text/plain": [
       "Text(0.5, 1.0, 'Salary Distribution')"
      ]
     },
     "execution_count": 98,
     "metadata": {},
     "output_type": "execute_result"
    },
    {
     "data": {
      "image/png": "[encoded data removed]",
      "text/plain": [
       "<Figure size 1080x576 with 1 Axes>"
      ]
     },
     "metadata": {
      "needs_background": "light"
     },
     "output_type": "display_data"
    },
    {
     "data": {
      "image/png": "[encoded data removed]",
      "text/plain": [
       "<Figure size 360x360 with 1 Axes>"
      ]
     },
     "metadata": {
      "needs_background": "light"
     },
     "output_type": "display_data"
    }
   ],
   "source": [
    "plt.subplots(figsize=(15,8))\n",
    "salary=salary[salary['Salary'] <500000]\n",
    "sns.displot(salary['Salary'])\n",
    "plt.axvline(salary['Salary'].median(), linestyle='dashed')\n",
    "plt.title('Salary Distribution', size=15)"
   ]
  },
  {
   "cell_type": "code",
   "execution_count": 95,
   "metadata": {},
   "outputs": [
    {
     "data": {
      "text/plain": [
       "Text(0.5, 1.0, 'Highest Salary Paying Countries')"
      ]
     },
     "execution_count": 95,
     "metadata": {},
     "output_type": "execute_result"
    },
    {
     "data": {
      "image/png": "[encoded data removed]",
      "text/plain": [
       "<Figure size 576x864 with 1 Axes>"
      ]
     },
     "metadata": {
      "needs_background": "light"
     },
     "output_type": "display_data"
    }
   ],
   "source": [
    "plt.subplots(figsize=(8,12))\n",
    "\n",
    "sal_coun = salary.groupby('Country')['Salary'].median().sort_values(\n",
    "    ascending=False)[:30].to_frame()\n",
    "\n",
    "\n",
    "sns.barplot('Salary',\n",
    "           sal_coun.index,\n",
    "           data = sal_coun,\n",
    "           palette='RdYlGn')\n",
    "\n",
    "\n",
    "plt.axvline(salary['Salary'].median(), linestyle='dashed')\n",
    "plt.title('Highest Salary Paying Countries')"
   ]
  },
  {
   "cell_type": "code",
   "execution_count": 99,
   "metadata": {},
   "outputs": [
    {
     "data": {
      "text/plain": [
       "<AxesSubplot:xlabel='Salary', ylabel='GenderSelect'>"
      ]
     },
     "execution_count": 99,
     "metadata": {},
     "output_type": "execute_result"
    },
    {
     "data": {
      "image/png": "[encoded data removed]",
      "text/plain": [
       "<Figure size 576x288 with 1 Axes>"
      ]
     },
     "metadata": {
      "needs_background": "light"
     },
     "output_type": "display_data"
    }
   ],
   "source": [
    "plt.subplots(figsize=(8,4))\n",
    "sns.boxplot(y='GenderSelect', x='Salary', data=salary)"
   ]
  }
 ],
 "metadata": {
  "kernelspec": {
   "display_name": "Python 3",
   "language": "python",
   "name": "python3"
  },
  "language_info": {
   "codemirror_mode": {
    "name": "ipython",
    "version": 3
   },
   "file_extension": ".py",
   "mimetype": "text/x-python",
   "name": "python",
   "nbconvert_exporter": "python",
   "pygments_lexer": "ipython3",
   "version": "3.8.3"
  }
 },
 "nbformat": 4,
 "nbformat_minor": 4
}
